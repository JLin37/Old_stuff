{
 "cells": [
  {
   "cell_type": "code",
   "execution_count": 82,
   "metadata": {},
   "outputs": [],
   "source": [
    "import pandas as pd\n",
    "import numpy as np\n",
    "from sklearn.externals import joblib\n",
    "from utils.classifications_utils import *\n",
    "from utils.data_processing_utils_lin_edit import *\n",
    "from utils.data_visualization_utils import *\n",
    "from utils.metrics_utils import *\n",
    "from utils.grid_search_utils import *\n",
    "from sklearn.model_selection import train_test_split\n",
    "from sklearn.ensemble import ExtraTreesClassifier, RandomForestClassifier, AdaBoostClassifier\n",
    "from sklearn.preprocessing import MinMaxScaler\n",
    "import matplotlib.pyplot as plt\n",
    "from scipy import signal\n",
    "from utils.reduce_noise_utils import *\n",
    "import pickle\n",
    "import warnings\n",
    "warnings.filterwarnings(\"ignore\")\n",
    "%matplotlib inline"
   ]
  },
  {
   "cell_type": "markdown",
   "metadata": {},
   "source": [
    "# Drone 4 Data"
   ]
  },
  {
   "cell_type": "code",
   "execution_count": 83,
   "metadata": {},
   "outputs": [],
   "source": [
    "level_0_wind = load_data(0, 6, \"drone2\")\n",
    "level_0_wind = separate_data_based_on_apparatus(level_0_wind)\n",
    "\n",
    "level_1_wind = load_data(1, 6, \"drone2\")\n",
    "level_1_wind = separate_data_based_on_apparatus(level_1_wind)\n",
    "\n",
    "level_2_wind = load_data(2, 6, \"drone2\")\n",
    "level_2_wind = separate_data_based_on_apparatus(level_2_wind)\n",
    "\n",
    "level_3_wind = load_data(3, 6, \"drone2\")\n",
    "level_3_wind = separate_data_based_on_apparatus(level_3_wind)"
   ]
  },
  {
   "cell_type": "code",
   "execution_count": 84,
   "metadata": {},
   "outputs": [],
   "source": [
    "acc_no_wind, gyro_no_wind, _, _ = level_0_wind.values()\n",
    "label_0 = [0 for x in range(acc_no_wind.shape[0])]\n",
    "\n",
    "acc_level_1_wind, gyro_level_1_wind, _, _ = level_1_wind.values()\n",
    "label_1 = [1 for x in range(acc_level_1_wind.shape[0])]\n",
    "\n",
    "acc_level_2_wind, gyro_level_2_wind, _, _ = level_2_wind.values()\n",
    "label_2 = [2 for x in range(acc_level_2_wind.shape[0])]\n",
    "\n",
    "acc_level_3_wind, gyro_level_3_wind, _, _ = level_3_wind.values()\n",
    "label_3 = [3 for x in range(acc_level_3_wind.shape[0])]"
   ]
  },
  {
   "cell_type": "markdown",
   "metadata": {},
   "source": [
    "# Reduce noise"
   ]
  },
  {
   "cell_type": "code",
   "execution_count": 85,
   "metadata": {},
   "outputs": [],
   "source": [
    "gyro_no_wind_reduced = reduce_noise_with_FFT(gyro_no_wind, [100, 300, 200])# Reduce noise"
   ]
  },
  {
   "cell_type": "code",
   "execution_count": 86,
   "metadata": {},
   "outputs": [],
   "source": [
    "gyro_level_1_reduced = reduce_noise_with_FFT(gyro_level_1_wind, [2500, 5000, 2000])"
   ]
  },
  {
   "cell_type": "code",
   "execution_count": 87,
   "metadata": {},
   "outputs": [],
   "source": [
    "gyro_level_2_reduced = reduce_noise_with_FFT(gyro_level_2_wind, [6000, 2000, 1000])"
   ]
  },
  {
   "cell_type": "code",
   "execution_count": 88,
   "metadata": {},
   "outputs": [],
   "source": [
    "gyro_level_3_reduced = reduce_noise_with_FFT(gyro_level_3_wind, [9000, 5000, 2000])"
   ]
  },
  {
   "cell_type": "markdown",
   "metadata": {},
   "source": [
    "# Split No Wind Data"
   ]
  },
  {
   "cell_type": "code",
   "execution_count": 89,
   "metadata": {},
   "outputs": [],
   "source": [
    "X_train_acc_0, X_test_acc_0, y_train_acc_0, y_test_acc_0 = \\\n",
    "train_test_split(acc_no_wind, label_0, test_size=0.2, shuffle=False)\n",
    "\n",
    "X_train_gyro_0, X_test_gyro_0, y_train_gyro_0, y_test_gyro_0 = \\\n",
    "train_test_split(gyro_no_wind_reduced, label_0, test_size=0.2, shuffle=False)"
   ]
  },
  {
   "cell_type": "markdown",
   "metadata": {},
   "source": [
    "# Split Level 1 Wind"
   ]
  },
  {
   "cell_type": "code",
   "execution_count": 90,
   "metadata": {},
   "outputs": [],
   "source": [
    "X_train_acc_1, X_test_acc_1, y_train_acc_1, y_test_acc_1 = \\\n",
    "train_test_split(acc_level_1_wind, label_1, test_size=0.2, shuffle=False)\n",
    "\n",
    "X_train_gyro_1, X_test_gyro_1, y_train_gyro_1, y_test_gyro_1 = \\\n",
    "train_test_split(gyro_level_1_reduced, label_1, test_size=0.2, shuffle=False)"
   ]
  },
  {
   "cell_type": "markdown",
   "metadata": {},
   "source": [
    "# Split Level 2 Wind"
   ]
  },
  {
   "cell_type": "code",
   "execution_count": 91,
   "metadata": {},
   "outputs": [],
   "source": [
    "X_train_acc_2, X_test_acc_2, y_train_acc_2, y_test_acc_2 = \\\n",
    "train_test_split(acc_level_2_wind, label_2, test_size=0.2, shuffle=False)\n",
    "\n",
    "X_train_gyro_2, X_test_gyro_2, y_train_gyro_2, y_test_gyro_2 = \\\n",
    "train_test_split(gyro_level_2_reduced, label_2, test_size=0.2, shuffle=False)"
   ]
  },
  {
   "cell_type": "markdown",
   "metadata": {},
   "source": [
    "# Split Level 3 Wind"
   ]
  },
  {
   "cell_type": "code",
   "execution_count": 92,
   "metadata": {},
   "outputs": [],
   "source": [
    "X_train_acc_3, X_test_acc_3, y_train_acc_3, y_test_acc_3 = \\\n",
    "train_test_split(acc_level_3_wind, label_3, test_size=0.2, shuffle=False)\n",
    "\n",
    "X_train_gyro_3, X_test_gyro_3, y_train_gyro_3, y_test_gyro_3 = \\\n",
    "train_test_split(gyro_level_3_reduced, label_3, test_size=0.2, shuffle=False)"
   ]
  },
  {
   "cell_type": "markdown",
   "metadata": {},
   "source": [
    "# Stack data up"
   ]
  },
  {
   "cell_type": "markdown",
   "metadata": {},
   "source": [
    "# Gyro"
   ]
  },
  {
   "cell_type": "code",
   "execution_count": 93,
   "metadata": {},
   "outputs": [
    {
     "data": {
      "text/plain": [
       "(115200, 3)"
      ]
     },
     "metadata": {},
     "output_type": "display_data"
    }
   ],
   "source": [
    "X_train_gyro = X_train_gyro_0.append(X_train_gyro_1)\n",
    "X_train_gyro = X_train_gyro.append(X_train_gyro_2)\n",
    "X_train_gyro = X_train_gyro.append(X_train_gyro_3)\n",
    "y_train_gyro = np.hstack((y_train_gyro_0, y_train_gyro_1, y_train_gyro_2, y_train_gyro_3))\n",
    "display(X_train_gyro.shape)"
   ]
  },
  {
   "cell_type": "code",
   "execution_count": 94,
   "metadata": {},
   "outputs": [],
   "source": [
    "X_test_gyro = X_test_gyro_0.append(X_test_gyro_1)\n",
    "X_test_gyro = X_test_gyro.append(X_test_gyro_2)\n",
    "X_test_gyro = X_test_gyro.append(X_test_gyro_3)\n",
    "y_test_gyro = np.hstack((y_test_gyro_0, y_test_gyro_1, y_test_gyro_2, y_test_gyro_3))"
   ]
  },
  {
   "cell_type": "markdown",
   "metadata": {},
   "source": [
    "# Accelerometer"
   ]
  },
  {
   "cell_type": "code",
   "execution_count": 95,
   "metadata": {},
   "outputs": [],
   "source": [
    "X_train_acc = X_train_acc_0.append(X_train_acc_1)\n",
    "X_train_acc = X_train_acc.append(X_train_acc_2)\n",
    "X_train_acc = X_train_acc.append(X_train_acc_3)\n",
    "y_train_acc = np.hstack((y_train_acc_0, y_train_acc_1, y_train_acc_2, y_train_acc_3))"
   ]
  },
  {
   "cell_type": "code",
   "execution_count": 96,
   "metadata": {},
   "outputs": [],
   "source": [
    "X_test_acc = X_test_acc_0.append(X_test_acc_1)\n",
    "X_test_acc = X_test_acc.append(X_test_acc_2)\n",
    "X_test_acc = X_test_acc.append(X_test_acc_3)\n",
    "y_test_acc = np.hstack((y_test_acc_0, y_test_acc_1, y_test_acc_2, y_test_acc_3))"
   ]
  },
  {
   "cell_type": "markdown",
   "metadata": {},
   "source": [
    "# Transform and generate features"
   ]
  },
  {
   "cell_type": "code",
   "execution_count": 97,
   "metadata": {},
   "outputs": [],
   "source": [
    "from transformers.featureGenerator import FeatureGenerator"
   ]
  },
  {
   "cell_type": "markdown",
   "metadata": {},
   "source": [
    "# Train a random forest classifier and evaluate "
   ]
  },
  {
   "cell_type": "code",
   "execution_count": 98,
   "metadata": {},
   "outputs": [],
   "source": [
    "from sklearn.ensemble import RandomForestClassifier"
   ]
  },
  {
   "cell_type": "markdown",
   "metadata": {},
   "source": [
    "# Classify 0, min and max levels of airflows"
   ]
  },
  {
   "cell_type": "markdown",
   "metadata": {},
   "source": [
    "# Gyro"
   ]
  },
  {
   "cell_type": "code",
   "execution_count": 99,
   "metadata": {},
   "outputs": [
    {
     "data": {
      "text/plain": [
       "FeatureGenerator(sliding_window=1)"
      ]
     },
     "execution_count": 99,
     "metadata": {},
     "output_type": "execute_result"
    }
   ],
   "source": [
    "feature_generator_gyro2 = FeatureGenerator(1)\n",
    "feature_generator_gyro2.fit(X_train_gyro, 4)"
   ]
  },
  {
   "cell_type": "code",
   "execution_count": 100,
   "metadata": {},
   "outputs": [
    {
     "name": "stdout",
     "output_type": "stream",
     "text": [
      "28701\n"
     ]
    }
   ],
   "source": [
    "X_train_gyro = feature_generator_gyro2.transform(X_train_gyro, 'gyro')\n",
    "y_train_gyro = reduce_label_amount(y_train_gyro, 4)"
   ]
  },
  {
   "cell_type": "code",
   "execution_count": 101,
   "metadata": {},
   "outputs": [
    {
     "data": {
      "text/plain": [
       "FeatureGenerator(sliding_window=1)"
      ]
     },
     "execution_count": 101,
     "metadata": {},
     "output_type": "execute_result"
    }
   ],
   "source": [
    "feature_generator_gyro_test2 = FeatureGenerator(1)\n",
    "feature_generator_gyro_test2.fit(X_test_gyro, 4)"
   ]
  },
  {
   "cell_type": "code",
   "execution_count": 102,
   "metadata": {},
   "outputs": [
    {
     "name": "stdout",
     "output_type": "stream",
     "text": [
      "7101\n"
     ]
    }
   ],
   "source": [
    "X_test_gyro = feature_generator_gyro_test2.transform(X_test_gyro, 'gyro')\n",
    "y_test_gyro = reduce_label_amount(y_test_gyro, 4)"
   ]
  },
  {
   "cell_type": "markdown",
   "metadata": {},
   "source": [
    "# run pickled random forest classifier and predict"
   ]
  },
  {
   "cell_type": "code",
   "execution_count": 103,
   "metadata": {},
   "outputs": [],
   "source": [
    "from sklearn.externals import joblib"
   ]
  },
  {
   "cell_type": "code",
   "execution_count": 109,
   "metadata": {
    "scrolled": true
   },
   "outputs": [
    {
     "data": {
      "text/plain": [
       "0.9119490212646106"
      ]
     },
     "execution_count": 109,
     "metadata": {},
     "output_type": "execute_result"
    }
   ],
   "source": [
    "pickled_clf_2 = pickle.load(open(\"randomforest_gyro_drone1.sav\", 'rb'))\n",
    "y_pred_1 = pickled_clf_2.predict(X_test_gyro)\n",
    "pickled_clf_2.score(X_test_gyro, y_test_gyro)"
   ]
  },
  {
   "cell_type": "code",
   "execution_count": 110,
   "metadata": {},
   "outputs": [
    {
     "data": {
      "text/html": [
       "<div>\n",
       "<style scoped>\n",
       "    .dataframe tbody tr th:only-of-type {\n",
       "        vertical-align: middle;\n",
       "    }\n",
       "\n",
       "    .dataframe tbody tr th {\n",
       "        vertical-align: top;\n",
       "    }\n",
       "\n",
       "    .dataframe thead th {\n",
       "        text-align: right;\n",
       "    }\n",
       "</style>\n",
       "<table border=\"1\" class=\"dataframe\">\n",
       "  <thead>\n",
       "    <tr style=\"text-align: right;\">\n",
       "      <th></th>\n",
       "      <th>actual_0</th>\n",
       "      <th>actual_1</th>\n",
       "      <th>actual_2</th>\n",
       "      <th>actual_3</th>\n",
       "    </tr>\n",
       "  </thead>\n",
       "  <tbody>\n",
       "    <tr>\n",
       "      <th>predicted_0</th>\n",
       "      <td>7084</td>\n",
       "      <td>17</td>\n",
       "      <td>0</td>\n",
       "      <td>0</td>\n",
       "    </tr>\n",
       "    <tr>\n",
       "      <th>predicted_1</th>\n",
       "      <td>25</td>\n",
       "      <td>7044</td>\n",
       "      <td>32</td>\n",
       "      <td>0</td>\n",
       "    </tr>\n",
       "    <tr>\n",
       "      <th>predicted_2</th>\n",
       "      <td>0</td>\n",
       "      <td>16</td>\n",
       "      <td>7040</td>\n",
       "      <td>45</td>\n",
       "    </tr>\n",
       "    <tr>\n",
       "      <th>predicted_3</th>\n",
       "      <td>0</td>\n",
       "      <td>0</td>\n",
       "      <td>2366</td>\n",
       "      <td>4735</td>\n",
       "    </tr>\n",
       "  </tbody>\n",
       "</table>\n",
       "</div>"
      ],
      "text/plain": [
       "             actual_0  actual_1  actual_2  actual_3\n",
       "predicted_0      7084        17         0         0\n",
       "predicted_1        25      7044        32         0\n",
       "predicted_2         0        16      7040        45\n",
       "predicted_3         0         0      2366      4735"
      ]
     },
     "execution_count": 110,
     "metadata": {},
     "output_type": "execute_result"
    }
   ],
   "source": [
    "get_confusion_matrix(y_test_gyro, y_pred_1)"
   ]
  },
  {
   "cell_type": "code",
   "execution_count": 111,
   "metadata": {},
   "outputs": [],
   "source": [
    "# joblib.dump(best_model_rf, FOLDER_PATH + 'random_forest_gyro.pkl')\n",
    "pickled_clf = joblib.load(FOLDER_PATH + 'random_forest_gyro.pkl')"
   ]
  },
  {
   "cell_type": "code",
   "execution_count": 112,
   "metadata": {},
   "outputs": [
    {
     "data": {
      "text/plain": [
       "0.5054217715814674"
      ]
     },
     "execution_count": 112,
     "metadata": {},
     "output_type": "execute_result"
    }
   ],
   "source": [
    "y_pred = pickled_clf.predict(X_test_gyro)\n",
    "pickled_clf.score(X_test_gyro, y_test_gyro)"
   ]
  },
  {
   "cell_type": "markdown",
   "metadata": {},
   "source": [
    "# Confusion Matrix: Gyro"
   ]
  },
  {
   "cell_type": "code",
   "execution_count": 113,
   "metadata": {},
   "outputs": [
    {
     "data": {
      "text/html": [
       "<div>\n",
       "<style scoped>\n",
       "    .dataframe tbody tr th:only-of-type {\n",
       "        vertical-align: middle;\n",
       "    }\n",
       "\n",
       "    .dataframe tbody tr th {\n",
       "        vertical-align: top;\n",
       "    }\n",
       "\n",
       "    .dataframe thead th {\n",
       "        text-align: right;\n",
       "    }\n",
       "</style>\n",
       "<table border=\"1\" class=\"dataframe\">\n",
       "  <thead>\n",
       "    <tr style=\"text-align: right;\">\n",
       "      <th></th>\n",
       "      <th>actual_0</th>\n",
       "      <th>actual_1</th>\n",
       "      <th>actual_2</th>\n",
       "      <th>actual_3</th>\n",
       "    </tr>\n",
       "  </thead>\n",
       "  <tbody>\n",
       "    <tr>\n",
       "      <th>predicted_0</th>\n",
       "      <td>7092</td>\n",
       "      <td>9</td>\n",
       "      <td>0</td>\n",
       "      <td>0</td>\n",
       "    </tr>\n",
       "    <tr>\n",
       "      <th>predicted_1</th>\n",
       "      <td>740</td>\n",
       "      <td>6355</td>\n",
       "      <td>6</td>\n",
       "      <td>0</td>\n",
       "    </tr>\n",
       "    <tr>\n",
       "      <th>predicted_2</th>\n",
       "      <td>0</td>\n",
       "      <td>6408</td>\n",
       "      <td>690</td>\n",
       "      <td>3</td>\n",
       "    </tr>\n",
       "    <tr>\n",
       "      <th>predicted_3</th>\n",
       "      <td>0</td>\n",
       "      <td>941</td>\n",
       "      <td>5941</td>\n",
       "      <td>219</td>\n",
       "    </tr>\n",
       "  </tbody>\n",
       "</table>\n",
       "</div>"
      ],
      "text/plain": [
       "             actual_0  actual_1  actual_2  actual_3\n",
       "predicted_0      7092         9         0         0\n",
       "predicted_1       740      6355         6         0\n",
       "predicted_2         0      6408       690         3\n",
       "predicted_3         0       941      5941       219"
      ]
     },
     "execution_count": 113,
     "metadata": {},
     "output_type": "execute_result"
    }
   ],
   "source": [
    "get_confusion_matrix(y_test_gyro, y_pred)"
   ]
  },
  {
   "cell_type": "code",
   "execution_count": null,
   "metadata": {},
   "outputs": [],
   "source": []
  }
 ],
 "metadata": {
  "kernelspec": {
   "display_name": "Python 3",
   "language": "python",
   "name": "python3"
  },
  "language_info": {
   "codemirror_mode": {
    "name": "ipython",
    "version": 3
   },
   "file_extension": ".py",
   "mimetype": "text/x-python",
   "name": "python",
   "nbconvert_exporter": "python",
   "pygments_lexer": "ipython3",
   "version": "3.6.5"
  }
 },
 "nbformat": 4,
 "nbformat_minor": 2
}
