{
 "cells": [
  {
   "cell_type": "code",
   "execution_count": 1,
   "metadata": {},
   "outputs": [],
   "source": [
    "import pandas as pd\n",
    "import numpy as np\n",
    "from sklearn.externals import joblib\n",
    "from utils.classifications_utils import *\n",
    "from utils.data_processing_utils import *\n",
    "from utils.data_visualization_utils import *\n",
    "from utils.metrics_utils import *\n",
    "from utils.grid_search_utils import *\n",
    "from sklearn.svm import SVC\n",
    "from sklearn.model_selection import train_test_split\n",
    "from sklearn.ensemble import ExtraTreesClassifier, RandomForestClassifier, AdaBoostClassifier\n",
    "from sklearn.preprocessing import MinMaxScaler\n",
    "import matplotlib.pyplot as plt\n",
    "import warnings\n",
    "warnings.filterwarnings(\"ignore\")\n",
    "%matplotlib inline"
   ]
  },
  {
   "cell_type": "code",
   "execution_count": 2,
   "metadata": {},
   "outputs": [],
   "source": [
    "def remove_white_noise(white_noise, data):\n",
    "    smoothed_data = {}\n",
    "    \n",
    "    for wn, d in zip(white_noise.items(), data.items()):\n",
    "        smoothed_data[wn[0]] = d[1] - wn[1]\n",
    "        \n",
    "    return smoothed_data"
   ]
  },
  {
   "cell_type": "code",
   "execution_count": 4,
   "metadata": {},
   "outputs": [],
   "source": [
    "no_wind_data = load_data(0, 3, \"drone1\")\n",
    "no_wind_data = separate_data_based_on_apparatus(no_wind_data)\n",
    "\n",
    "level_1_wind = load_data(1, 3, \"drone1\")\n",
    "level_1_wind = separate_data_based_on_apparatus(level_1_wind)\n",
    "\n",
    "level_3_wind = load_data(3, 3, \"drone1\")\n",
    "level_3_wind = separate_data_based_on_apparatus(level_3_wind)\n",
    "\n",
    "level_6_wind = load_data(6, 3, \"drone1\")\n",
    "level_6_wind = separate_data_based_on_apparatus(level_6_wind)\n",
    "\n",
    "level_8_wind = load_data(8, 3, \"drone1\")\n",
    "level_8_wind = separate_data_based_on_apparatus(level_8_wind)"
   ]
  },
  {
   "cell_type": "code",
   "execution_count": 5,
   "metadata": {},
   "outputs": [],
   "source": [
    "smoothed_level_1_data = remove_white_noise(no_wind_data, level_1_wind)\n",
    "smoothed_level_3_data = remove_white_noise(no_wind_data, level_3_wind)\n",
    "smoothed_level_6_data = remove_white_noise(no_wind_data, level_6_wind)\n",
    "smoothed_level_8_data = remove_white_noise(no_wind_data, level_8_wind)"
   ]
  },
  {
   "cell_type": "code",
   "execution_count": 6,
   "metadata": {},
   "outputs": [],
   "source": [
    "no_wind_transformed = transformed_all_data(no_wind_data, 0)\n",
    "level_1_wind_transformed = transformed_all_data(smoothed_level_1_data, 1)\n",
    "level_3_wind_transformed = transformed_all_data(smoothed_level_3_data, 2)\n",
    "level_6_wind_transformed = transformed_all_data(smoothed_level_6_data, 3)\n",
    "level_8_wind_transformed = transformed_all_data(smoothed_level_8_data, 4)\n",
    "\n",
    "acc_no_wind, gyro_no_wind, mag_no_wind, stabilizer_no_wind = tuple(no_wind_transformed)\n",
    "acc_level_1_wind, gyro_level_1_wind, mag_level_1_wind, stabilizer_level_1_wind = tuple(level_1_wind_transformed)\n",
    "acc_level_3_wind, gyro_level_3_wind, mag_level_3_wind, stabilizer_level_3_wind = tuple(level_3_wind_transformed)\n",
    "acc_level_6_wind, gyro_level_6_wind, mag_level_6_wind, stabilizer_level_6_wind = tuple(level_6_wind_transformed)\n",
    "acc_level_8_wind, gyro_level_8_wind, mag_level_8_wind, stabilizer_level_8_wind = tuple(level_8_wind_transformed)"
   ]
  },
  {
   "cell_type": "code",
   "execution_count": 7,
   "metadata": {},
   "outputs": [
    {
     "name": "stdout",
     "output_type": "stream",
     "text": [
      "Accelerometer: 89505\n"
     ]
    }
   ],
   "source": [
    "df_acc = acc_no_wind.append(acc_level_1_wind, ignore_index=True)\n",
    "df_acc = df_acc.append(acc_level_3_wind, ignore_index=True)\n",
    "df_acc = df_acc.append(acc_level_6_wind, ignore_index=True)\n",
    "df_acc = df_acc.append(acc_level_8_wind, ignore_index=True)\n",
    "X_acc = df_acc.iloc[:, :-1]\n",
    "y_acc = df_acc[\"label\"]\n",
    "print(\"Accelerometer: \" + str(df_acc.shape[0]))\n",
    "df_acc.to_csv(\"smoothed_acc_transformed_1_min.csv\")"
   ]
  },
  {
   "cell_type": "code",
   "execution_count": 8,
   "metadata": {},
   "outputs": [
    {
     "name": "stdout",
     "output_type": "stream",
     "text": [
      "Gyro: 89505\n"
     ]
    }
   ],
   "source": [
    "df_gyro = gyro_no_wind.append(gyro_level_1_wind, ignore_index=True)\n",
    "df_gyro = df_gyro.append(gyro_level_3_wind, ignore_index=True)\n",
    "df_gyro = df_gyro.append(gyro_level_6_wind, ignore_index=True)\n",
    "df_gyro = df_gyro.append(gyro_level_8_wind, ignore_index=True)\n",
    "X_gyro = df_gyro.iloc[:, :-1]\n",
    "y_gyro = df_gyro[\"label\"]\n",
    "print(\"Gyro: \" + str(df_gyro.shape[0]))\n",
    "df_gyro.to_csv(\"smoothed_gyro_transformed_1_min.csv\")"
   ]
  },
  {
   "cell_type": "code",
   "execution_count": 9,
   "metadata": {},
   "outputs": [
    {
     "name": "stdout",
     "output_type": "stream",
     "text": [
      "Stabilizer: 89505\n"
     ]
    }
   ],
   "source": [
    "df_sta = stabilizer_no_wind.append(stabilizer_level_1_wind, ignore_index=True)\n",
    "df_sta = df_sta.append(stabilizer_level_3_wind, ignore_index=True)\n",
    "df_sta = df_sta.append(stabilizer_level_6_wind, ignore_index=True)\n",
    "df_sta = df_sta.append(stabilizer_level_8_wind, ignore_index=True)\n",
    "X_sta = df_sta.iloc[:, :-1]\n",
    "y_sta = df_sta[\"label\"]\n",
    "print(\"Stabilizer: \" + str(df_sta.shape[0]))\n",
    "df_sta.to_csv(\"smoothed_sta_transformed_1_min.csv\")"
   ]
  },
  {
   "cell_type": "code",
   "execution_count": 10,
   "metadata": {},
   "outputs": [],
   "source": [
    "no_wind_data = load_data(0, 1, \"drone2\")\n",
    "no_wind_data = separate_data_based_on_apparatus(no_wind_data)\n",
    "\n",
    "level_1_wind = load_data(1, 1, \"drone2\")\n",
    "level_1_wind = separate_data_based_on_apparatus(level_1_wind)\n",
    "\n",
    "level_3_wind = load_data(3, 1, \"drone2\")\n",
    "level_3_wind = separate_data_based_on_apparatus(level_3_wind)\n",
    "\n",
    "level_6_wind = load_data(6, 1, \"drone2\")\n",
    "level_6_wind = separate_data_based_on_apparatus(level_6_wind)\n",
    "\n",
    "level_8_wind = load_data(8, 1, \"drone2\")\n",
    "level_8_wind = separate_data_based_on_apparatus(level_8_wind)"
   ]
  },
  {
   "cell_type": "code",
   "execution_count": 11,
   "metadata": {},
   "outputs": [],
   "source": [
    "smoothed_level_1_data_2 = remove_white_noise(no_wind_data, level_1_wind)\n",
    "smoothed_level_3_data_2 = remove_white_noise(no_wind_data, level_3_wind)\n",
    "smoothed_level_6_data_2 = remove_white_noise(no_wind_data, level_6_wind)\n",
    "smoothed_level_8_data_2 = remove_white_noise(no_wind_data, level_8_wind)"
   ]
  },
  {
   "cell_type": "code",
   "execution_count": 12,
   "metadata": {},
   "outputs": [],
   "source": [
    "no_wind_transformed = transformed_all_data(no_wind_data, 0)\n",
    "level_1_wind_transformed = transformed_all_data(smoothed_level_1_data_2, 1)\n",
    "level_3_wind_transformed = transformed_all_data(smoothed_level_3_data_2, 2)\n",
    "level_6_wind_transformed = transformed_all_data(smoothed_level_6_data_2, 3)\n",
    "level_8_wind_transformed = transformed_all_data(smoothed_level_8_data_2, 4)\n",
    "\n",
    "acc_no_wind, gyro_no_wind, mag_no_wind, stabilizer_no_wind = tuple(no_wind_transformed)\n",
    "acc_level_1_wind, gyro_level_1_wind, mag_level_1_wind, stabilizer_level_1_wind = tuple(level_1_wind_transformed)\n",
    "acc_level_3_wind, gyro_level_3_wind, mag_level_3_wind, stabilizer_level_3_wind = tuple(level_3_wind_transformed)\n",
    "acc_level_6_wind, gyro_level_6_wind, mag_level_6_wind, stabilizer_level_6_wind = tuple(level_6_wind_transformed)\n",
    "acc_level_8_wind, gyro_level_8_wind, mag_level_8_wind, stabilizer_level_8_wind = tuple(level_8_wind_transformed)"
   ]
  },
  {
   "cell_type": "code",
   "execution_count": 31,
   "metadata": {},
   "outputs": [],
   "source": [
    "df_acc_2 = acc_no_wind.append(acc_level_1_wind, ignore_index=True)\n",
    "df_acc_2 = df_acc_2.append(acc_level_3_wind, ignore_index=True)\n",
    "df_acc_2 = df_acc_2.append(acc_level_6_wind, ignore_index=True)\n",
    "df_acc_2 = df_acc_2.append(acc_level_8_wind, ignore_index=True)\n",
    "X_acc_2 = df_acc_2.iloc[:, :-1]\n",
    "y_acc_2 = df_acc_2[\"label\"]"
   ]
  },
  {
   "cell_type": "code",
   "execution_count": 32,
   "metadata": {},
   "outputs": [
    {
     "data": {
      "text/plain": [
       "(29505, 40)"
      ]
     },
     "execution_count": 32,
     "metadata": {},
     "output_type": "execute_result"
    }
   ],
   "source": [
    "X_acc_2.shape"
   ]
  },
  {
   "cell_type": "code",
   "execution_count": 14,
   "metadata": {},
   "outputs": [],
   "source": [
    "param_grid = {\n",
    "    \"n_estimators\": [10, 150],\n",
    "    \"max_depth\": [None, 20],\n",
    "    \"max_features\": [0.1],\n",
    "    \"min_samples_split\": [2],\n",
    "    \"min_samples_leaf\": [1],\n",
    "    \"max_leaf_nodes\": [None, 900],\n",
    "    \"min_weight_fraction_leaf\": [0]\n",
    "            }\n",
    "clf = RandomForestClassifier(random_state=0)\n",
    "\n",
    "best_model_rf = model_selection(clf, param_grid, X_acc, y_acc)"
   ]
  },
  {
   "cell_type": "code",
   "execution_count": 15,
   "metadata": {},
   "outputs": [],
   "source": [
    "joblib.dump(best_model_rf, 'random_forest_acc_smoothed.pkl')\n",
    "pickled_clf = joblib.load('random_forest_acc_smoothed.pkl')"
   ]
  },
  {
   "cell_type": "code",
   "execution_count": 16,
   "metadata": {},
   "outputs": [
    {
     "name": "stdout",
     "output_type": "stream",
     "text": [
      "Model with rank: 1\n",
      "Mean validation score: 0.5899, Standard Deviation: 0.5899\n",
      "Parameters: {'max_depth': None, 'max_features': 0.1, 'max_leaf_nodes': 900, 'min_samples_leaf': 1, 'min_samples_split': 2, 'min_weight_fraction_leaf': 0, 'n_estimators': 150}\n",
      "\n",
      "Model with rank: 2\n",
      "Mean validation score: 0.5890, Standard Deviation: 0.5890\n",
      "Parameters: {'max_depth': 20, 'max_features': 0.1, 'max_leaf_nodes': 900, 'min_samples_leaf': 1, 'min_samples_split': 2, 'min_weight_fraction_leaf': 0, 'n_estimators': 150}\n",
      "\n"
     ]
    }
   ],
   "source": [
    "report(pickled_clf.grid_scores_, 2)"
   ]
  },
  {
   "cell_type": "code",
   "execution_count": 33,
   "metadata": {},
   "outputs": [
    {
     "data": {
      "text/plain": [
       "0.40199966107439417"
      ]
     },
     "execution_count": 33,
     "metadata": {},
     "output_type": "execute_result"
    }
   ],
   "source": [
    "y_pred = pickled_clf.predict(X_acc_2)\n",
    "pickled_clf.score(X_acc_2, y_acc_2)"
   ]
  },
  {
   "cell_type": "code",
   "execution_count": 34,
   "metadata": {
    "scrolled": true
   },
   "outputs": [
    {
     "data": {
      "text/html": [
       "<div>\n",
       "<style scoped>\n",
       "    .dataframe tbody tr th:only-of-type {\n",
       "        vertical-align: middle;\n",
       "    }\n",
       "\n",
       "    .dataframe tbody tr th {\n",
       "        vertical-align: top;\n",
       "    }\n",
       "\n",
       "    .dataframe thead th {\n",
       "        text-align: right;\n",
       "    }\n",
       "</style>\n",
       "<table border=\"1\" class=\"dataframe\">\n",
       "  <thead>\n",
       "    <tr style=\"text-align: right;\">\n",
       "      <th></th>\n",
       "      <th>actual_0</th>\n",
       "      <th>actual_1</th>\n",
       "      <th>actual_2</th>\n",
       "      <th>actual_3</th>\n",
       "      <th>actual_4</th>\n",
       "    </tr>\n",
       "  </thead>\n",
       "  <tbody>\n",
       "    <tr>\n",
       "      <th>predicted_0</th>\n",
       "      <td>5901</td>\n",
       "      <td>0</td>\n",
       "      <td>0</td>\n",
       "      <td>0</td>\n",
       "      <td>0</td>\n",
       "    </tr>\n",
       "    <tr>\n",
       "      <th>predicted_1</th>\n",
       "      <td>0</td>\n",
       "      <td>46</td>\n",
       "      <td>0</td>\n",
       "      <td>1071</td>\n",
       "      <td>0</td>\n",
       "    </tr>\n",
       "    <tr>\n",
       "      <th>predicted_2</th>\n",
       "      <td>0</td>\n",
       "      <td>8</td>\n",
       "      <td>0</td>\n",
       "      <td>500</td>\n",
       "      <td>0</td>\n",
       "    </tr>\n",
       "    <tr>\n",
       "      <th>predicted_3</th>\n",
       "      <td>0</td>\n",
       "      <td>0</td>\n",
       "      <td>0</td>\n",
       "      <td>13</td>\n",
       "      <td>0</td>\n",
       "    </tr>\n",
       "    <tr>\n",
       "      <th>predicted_4</th>\n",
       "      <td>0</td>\n",
       "      <td>5847</td>\n",
       "      <td>5901</td>\n",
       "      <td>4317</td>\n",
       "      <td>5901</td>\n",
       "    </tr>\n",
       "  </tbody>\n",
       "</table>\n",
       "</div>"
      ],
      "text/plain": [
       "             actual_0  actual_1  actual_2  actual_3  actual_4\n",
       "predicted_0      5901         0         0         0         0\n",
       "predicted_1         0        46         0      1071         0\n",
       "predicted_2         0         8         0       500         0\n",
       "predicted_3         0         0         0        13         0\n",
       "predicted_4         0      5847      5901      4317      5901"
      ]
     },
     "execution_count": 34,
     "metadata": {},
     "output_type": "execute_result"
    }
   ],
   "source": [
    "get_confusion_matrix(y_pred, y_acc_2)"
   ]
  },
  {
   "cell_type": "code",
   "execution_count": 37,
   "metadata": {},
   "outputs": [],
   "source": [
    "param_grid = {\n",
    "    \"n_estimators\": [10, 150],\n",
    "    \"max_depth\": [None, 20],\n",
    "    \"max_features\": [0.1],\n",
    "    \"min_samples_split\": [2],\n",
    "    \"min_samples_leaf\": [1],\n",
    "    \"max_leaf_nodes\": [None, 900],\n",
    "    \"min_weight_fraction_leaf\": [0]\n",
    "            }\n",
    "clf = RandomForestClassifier(random_state=0)\n",
    "\n",
    "best_model_rf = model_selection(clf, param_grid, X_sta, y_sta)"
   ]
  },
  {
   "cell_type": "code",
   "execution_count": 38,
   "metadata": {},
   "outputs": [],
   "source": [
    "joblib.dump(best_model_rf, 'random_forest_sta_smoothed.pkl')\n",
    "pickled_clf = joblib.load('random_forest_sta_smoothed.pkl')"
   ]
  },
  {
   "cell_type": "code",
   "execution_count": 39,
   "metadata": {},
   "outputs": [
    {
     "name": "stdout",
     "output_type": "stream",
     "text": [
      "Model with rank: 1\n",
      "Mean validation score: 0.4756, Standard Deviation: 0.4756\n",
      "Parameters: {'max_depth': 20, 'max_features': 0.1, 'max_leaf_nodes': 900, 'min_samples_leaf': 1, 'min_samples_split': 2, 'min_weight_fraction_leaf': 0, 'n_estimators': 150}\n",
      "\n",
      "Model with rank: 2\n",
      "Mean validation score: 0.4747, Standard Deviation: 0.4747\n",
      "Parameters: {'max_depth': None, 'max_features': 0.1, 'max_leaf_nodes': 900, 'min_samples_leaf': 1, 'min_samples_split': 2, 'min_weight_fraction_leaf': 0, 'n_estimators': 150}\n",
      "\n"
     ]
    }
   ],
   "source": [
    "report(pickled_clf.grid_scores_, 2)"
   ]
  },
  {
   "cell_type": "code",
   "execution_count": 41,
   "metadata": {},
   "outputs": [],
   "source": [
    "df_sta_2 = stabilizer_no_wind.append(stabilizer_level_1_wind, ignore_index=True)\n",
    "df_sta_2 = df_sta_2.append(stabilizer_level_3_wind, ignore_index=True)\n",
    "df_sta_2 = df_sta_2.append(stabilizer_level_6_wind, ignore_index=True)\n",
    "df_sta_2 = df_sta_2.append(stabilizer_level_8_wind, ignore_index=True)\n",
    "X_sta_2 = df_sta_2.iloc[:, :-1]\n",
    "y_sta_2 = df_sta_2[\"label\"]"
   ]
  },
  {
   "cell_type": "code",
   "execution_count": 42,
   "metadata": {},
   "outputs": [
    {
     "data": {
      "text/plain": [
       "0.3938654465344857"
      ]
     },
     "execution_count": 42,
     "metadata": {},
     "output_type": "execute_result"
    }
   ],
   "source": [
    "y_pred = pickled_clf.predict(X_sta_2)\n",
    "pickled_clf.score(X_sta_2, y_sta_2)"
   ]
  },
  {
   "cell_type": "code",
   "execution_count": 43,
   "metadata": {},
   "outputs": [
    {
     "data": {
      "text/html": [
       "<div>\n",
       "<style scoped>\n",
       "    .dataframe tbody tr th:only-of-type {\n",
       "        vertical-align: middle;\n",
       "    }\n",
       "\n",
       "    .dataframe tbody tr th {\n",
       "        vertical-align: top;\n",
       "    }\n",
       "\n",
       "    .dataframe thead th {\n",
       "        text-align: right;\n",
       "    }\n",
       "</style>\n",
       "<table border=\"1\" class=\"dataframe\">\n",
       "  <thead>\n",
       "    <tr style=\"text-align: right;\">\n",
       "      <th></th>\n",
       "      <th>actual_0</th>\n",
       "      <th>actual_1</th>\n",
       "      <th>actual_2</th>\n",
       "      <th>actual_3</th>\n",
       "      <th>actual_4</th>\n",
       "    </tr>\n",
       "  </thead>\n",
       "  <tbody>\n",
       "    <tr>\n",
       "      <th>predicted_0</th>\n",
       "      <td>5901</td>\n",
       "      <td>222</td>\n",
       "      <td>216</td>\n",
       "      <td>567</td>\n",
       "      <td>245</td>\n",
       "    </tr>\n",
       "    <tr>\n",
       "      <th>predicted_1</th>\n",
       "      <td>0</td>\n",
       "      <td>1264</td>\n",
       "      <td>1293</td>\n",
       "      <td>1311</td>\n",
       "      <td>1212</td>\n",
       "    </tr>\n",
       "    <tr>\n",
       "      <th>predicted_2</th>\n",
       "      <td>0</td>\n",
       "      <td>2155</td>\n",
       "      <td>2375</td>\n",
       "      <td>2149</td>\n",
       "      <td>2240</td>\n",
       "    </tr>\n",
       "    <tr>\n",
       "      <th>predicted_3</th>\n",
       "      <td>0</td>\n",
       "      <td>487</td>\n",
       "      <td>531</td>\n",
       "      <td>776</td>\n",
       "      <td>899</td>\n",
       "    </tr>\n",
       "    <tr>\n",
       "      <th>predicted_4</th>\n",
       "      <td>0</td>\n",
       "      <td>1773</td>\n",
       "      <td>1486</td>\n",
       "      <td>1098</td>\n",
       "      <td>1305</td>\n",
       "    </tr>\n",
       "  </tbody>\n",
       "</table>\n",
       "</div>"
      ],
      "text/plain": [
       "             actual_0  actual_1  actual_2  actual_3  actual_4\n",
       "predicted_0      5901       222       216       567       245\n",
       "predicted_1         0      1264      1293      1311      1212\n",
       "predicted_2         0      2155      2375      2149      2240\n",
       "predicted_3         0       487       531       776       899\n",
       "predicted_4         0      1773      1486      1098      1305"
      ]
     },
     "execution_count": 43,
     "metadata": {},
     "output_type": "execute_result"
    }
   ],
   "source": [
    "get_confusion_matrix(y_pred, y_sta_2)"
   ]
  },
  {
   "cell_type": "code",
   "execution_count": 44,
   "metadata": {},
   "outputs": [
    {
     "data": {
      "text/plain": [
       "(29505, 40)"
      ]
     },
     "execution_count": 44,
     "metadata": {},
     "output_type": "execute_result"
    }
   ],
   "source": [
    "X_sta_2.shape"
   ]
  },
  {
   "cell_type": "code",
   "execution_count": null,
   "metadata": {},
   "outputs": [],
   "source": []
  }
 ],
 "metadata": {
  "kernelspec": {
   "display_name": "Python 3",
   "language": "python",
   "name": "python3"
  },
  "language_info": {
   "codemirror_mode": {
    "name": "ipython",
    "version": 3
   },
   "file_extension": ".py",
   "mimetype": "text/x-python",
   "name": "python",
   "nbconvert_exporter": "python",
   "pygments_lexer": "ipython3",
   "version": "3.6.5"
  }
 },
 "nbformat": 4,
 "nbformat_minor": 2
}
