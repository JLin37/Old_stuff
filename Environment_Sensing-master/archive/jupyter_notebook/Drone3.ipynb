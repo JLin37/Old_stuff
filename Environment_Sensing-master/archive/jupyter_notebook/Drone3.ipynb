{
 "cells": [
  {
   "cell_type": "code",
   "execution_count": 1,
   "metadata": {},
   "outputs": [],
   "source": [
    "import pandas as pd\n",
    "import numpy as np\n",
    "from sklearn.externals import joblib\n",
    "from utils.classifications_utils import *\n",
    "from utils.data_processing_utils import *\n",
    "from utils.data_visualization_utils import *\n",
    "from utils.metrics_utils import *\n",
    "from utils.grid_search_utils import *\n",
    "from sklearn.svm import SVC\n",
    "from sklearn.model_selection import train_test_split\n",
    "from sklearn.ensemble import ExtraTreesClassifier, RandomForestClassifier, AdaBoostClassifier\n",
    "from sklearn.preprocessing import MinMaxScaler\n",
    "import matplotlib.pyplot as plt\n",
    "import warnings\n",
    "warnings.filterwarnings(\"ignore\")\n",
    "%matplotlib inline"
   ]
  },
  {
   "cell_type": "code",
   "execution_count": 2,
   "metadata": {},
   "outputs": [],
   "source": [
    "FOLDER_PATH = \"pickled_models/rf/\"\n",
    "FOLDER_PATH2 = \"pickled_models/et/\"\n",
    "FOLDER_PATH3 = \"pickled_models/adaBoost/\"\n",
    "FOLDER_PATH4 = \"pickled_models/svm/\""
   ]
  },
  {
   "cell_type": "code",
   "execution_count": 3,
   "metadata": {},
   "outputs": [],
   "source": [
    "no_wind_data = load_data(0, 1, \"drone3\")\n",
    "no_wind_data = separate_data_based_on_apparatus(no_wind_data)\n",
    "\n",
    "level_1_wind = load_data(1, 1, \"drone3\")\n",
    "level_1_wind = separate_data_based_on_apparatus(level_1_wind)\n",
    "\n",
    "level_3_wind = load_data(3, 1, \"drone3\")\n",
    "level_3_wind = separate_data_based_on_apparatus(level_3_wind)\n",
    "\n",
    "level_6_wind = load_data(6, 1, \"drone3\")\n",
    "level_6_wind = separate_data_based_on_apparatus(level_6_wind)\n",
    "\n",
    "level_8_wind = load_data(8, 1, \"drone3\")\n",
    "level_8_wind = separate_data_based_on_apparatus(level_8_wind)"
   ]
  },
  {
   "cell_type": "code",
   "execution_count": 4,
   "metadata": {},
   "outputs": [],
   "source": [
    "no_wind_transformed = transformed_all_data(no_wind_data, 0)\n",
    "level_1_wind_transformed = transformed_all_data(level_1_wind, 1)\n",
    "level_3_wind_transformed = transformed_all_data(level_3_wind, 2)\n",
    "level_6_wind_transformed = transformed_all_data(level_6_wind, 3)\n",
    "level_8_wind_transformed = transformed_all_data(level_8_wind, 4)\n",
    "\n",
    "acc_no_wind, gyro_no_wind, mag_no_wind, stabilizer_no_wind = tuple(no_wind_transformed)\n",
    "acc_level_1_wind, gyro_level_1_wind, mag_level_1_wind, stabilizer_level_1_wind = tuple(level_1_wind_transformed)\n",
    "acc_level_3_wind, gyro_level_3_wind, mag_level_3_wind, stabilizer_level_3_wind = tuple(level_3_wind_transformed)\n",
    "acc_level_6_wind, gyro_level_6_wind, mag_level_6_wind, stabilizer_level_6_wind = tuple(level_6_wind_transformed)\n",
    "acc_level_8_wind, gyro_level_8_wind, mag_level_8_wind, stabilizer_level_8_wind = tuple(level_8_wind_transformed)"
   ]
  },
  {
   "cell_type": "code",
   "execution_count": 5,
   "metadata": {},
   "outputs": [],
   "source": [
    "df_acc = acc_no_wind.append(acc_level_1_wind, ignore_index=True)\n",
    "df_acc = df_acc.append(acc_level_3_wind, ignore_index=True)\n",
    "df_acc = df_acc.append(acc_level_6_wind, ignore_index=True)\n",
    "df_acc = df_acc.append(acc_level_8_wind, ignore_index=True)"
   ]
  },
  {
   "cell_type": "code",
   "execution_count": 6,
   "metadata": {},
   "outputs": [],
   "source": [
    "df_sta = stabilizer_no_wind.append(stabilizer_level_1_wind, ignore_index=True)\n",
    "df_sta = df_sta.append(stabilizer_level_3_wind, ignore_index=True)\n",
    "df_sta = df_sta.append(stabilizer_level_6_wind, ignore_index=True)\n",
    "df_sta = df_sta.append(stabilizer_level_8_wind, ignore_index=True)"
   ]
  },
  {
   "cell_type": "code",
   "execution_count": 7,
   "metadata": {},
   "outputs": [],
   "source": [
    "df_gyro = gyro_no_wind.append(gyro_level_1_wind, ignore_index=True)\n",
    "df_gyro = df_gyro.append(gyro_level_3_wind, ignore_index=True)\n",
    "df_gyro = df_gyro.append(gyro_level_6_wind, ignore_index=True)\n",
    "df_gyro = df_gyro.append(gyro_level_8_wind, ignore_index=True)"
   ]
  },
  {
   "cell_type": "markdown",
   "metadata": {},
   "source": [
    "# Accelerometer"
   ]
  },
  {
   "cell_type": "code",
   "execution_count": 8,
   "metadata": {},
   "outputs": [],
   "source": [
    "pickled_clf = joblib.load(FOLDER_PATH + 'random_forest_acc.pkl')\n",
    "pickled_clf2 = joblib.load(FOLDER_PATH2 + 'et_acc.pkl')\n",
    "pickled_clf3 = joblib.load(FOLDER_PATH3 + 'adaBoost_acc.pkl')\n",
    "pickled_clf4 = joblib.load(FOLDER_PATH4 + 'svm_acc.pkl')"
   ]
  },
  {
   "cell_type": "code",
   "execution_count": 9,
   "metadata": {},
   "outputs": [],
   "source": [
    "X_acc = df_acc.iloc[:, :-1]\n",
    "y_acc = df_acc[\"label\"]\n",
    "X_train, X_test, y_train, y_test = train_test_split(X_acc, y_acc, test_size=0.2, random_state=42)"
   ]
  },
  {
   "cell_type": "code",
   "execution_count": 10,
   "metadata": {},
   "outputs": [
    {
     "data": {
      "text/plain": [
       "0.202167287504233"
      ]
     },
     "execution_count": 10,
     "metadata": {},
     "output_type": "execute_result"
    }
   ],
   "source": [
    "y_pred = pickled_clf.predict(X_test)\n",
    "pickled_clf.score(X_test, y_test)"
   ]
  },
  {
   "cell_type": "code",
   "execution_count": 11,
   "metadata": {},
   "outputs": [
    {
     "data": {
      "text/html": [
       "<div>\n",
       "<style scoped>\n",
       "    .dataframe tbody tr th:only-of-type {\n",
       "        vertical-align: middle;\n",
       "    }\n",
       "\n",
       "    .dataframe tbody tr th {\n",
       "        vertical-align: top;\n",
       "    }\n",
       "\n",
       "    .dataframe thead th {\n",
       "        text-align: right;\n",
       "    }\n",
       "</style>\n",
       "<table border=\"1\" class=\"dataframe\">\n",
       "  <thead>\n",
       "    <tr style=\"text-align: right;\">\n",
       "      <th></th>\n",
       "      <th>actual_0</th>\n",
       "      <th>actual_1</th>\n",
       "      <th>actual_2</th>\n",
       "      <th>actual_3</th>\n",
       "      <th>actual_4</th>\n",
       "    </tr>\n",
       "  </thead>\n",
       "  <tbody>\n",
       "    <tr>\n",
       "      <th>predicted_0</th>\n",
       "      <td>15</td>\n",
       "      <td>0</td>\n",
       "      <td>0</td>\n",
       "      <td>0</td>\n",
       "      <td>0</td>\n",
       "    </tr>\n",
       "    <tr>\n",
       "      <th>predicted_1</th>\n",
       "      <td>0</td>\n",
       "      <td>0</td>\n",
       "      <td>0</td>\n",
       "      <td>0</td>\n",
       "      <td>0</td>\n",
       "    </tr>\n",
       "    <tr>\n",
       "      <th>predicted_2</th>\n",
       "      <td>0</td>\n",
       "      <td>0</td>\n",
       "      <td>0</td>\n",
       "      <td>0</td>\n",
       "      <td>0</td>\n",
       "    </tr>\n",
       "    <tr>\n",
       "      <th>predicted_3</th>\n",
       "      <td>0</td>\n",
       "      <td>0</td>\n",
       "      <td>0</td>\n",
       "      <td>0</td>\n",
       "      <td>0</td>\n",
       "    </tr>\n",
       "    <tr>\n",
       "      <th>predicted_4</th>\n",
       "      <td>1124</td>\n",
       "      <td>1199</td>\n",
       "      <td>1237</td>\n",
       "      <td>1152</td>\n",
       "      <td>1179</td>\n",
       "    </tr>\n",
       "  </tbody>\n",
       "</table>\n",
       "</div>"
      ],
      "text/plain": [
       "             actual_0  actual_1  actual_2  actual_3  actual_4\n",
       "predicted_0        15         0         0         0         0\n",
       "predicted_1         0         0         0         0         0\n",
       "predicted_2         0         0         0         0         0\n",
       "predicted_3         0         0         0         0         0\n",
       "predicted_4      1124      1199      1237      1152      1179"
      ]
     },
     "execution_count": 11,
     "metadata": {},
     "output_type": "execute_result"
    }
   ],
   "source": [
    "get_confusion_matrix(y_pred, y_test)"
   ]
  },
  {
   "cell_type": "code",
   "execution_count": 12,
   "metadata": {},
   "outputs": [
    {
     "data": {
      "text/plain": [
       "0.20047409414155096"
      ]
     },
     "execution_count": 12,
     "metadata": {},
     "output_type": "execute_result"
    }
   ],
   "source": [
    "y_pred = pickled_clf2.predict(X_test)\n",
    "pickled_clf2.score(X_test, y_test)"
   ]
  },
  {
   "cell_type": "code",
   "execution_count": 13,
   "metadata": {},
   "outputs": [
    {
     "data": {
      "text/html": [
       "<div>\n",
       "<style scoped>\n",
       "    .dataframe tbody tr th:only-of-type {\n",
       "        vertical-align: middle;\n",
       "    }\n",
       "\n",
       "    .dataframe tbody tr th {\n",
       "        vertical-align: top;\n",
       "    }\n",
       "\n",
       "    .dataframe thead th {\n",
       "        text-align: right;\n",
       "    }\n",
       "</style>\n",
       "<table border=\"1\" class=\"dataframe\">\n",
       "  <thead>\n",
       "    <tr style=\"text-align: right;\">\n",
       "      <th></th>\n",
       "      <th>actual_0</th>\n",
       "      <th>actual_1</th>\n",
       "      <th>actual_2</th>\n",
       "      <th>actual_3</th>\n",
       "      <th>actual_4</th>\n",
       "    </tr>\n",
       "  </thead>\n",
       "  <tbody>\n",
       "    <tr>\n",
       "      <th>predicted_0</th>\n",
       "      <td>5</td>\n",
       "      <td>0</td>\n",
       "      <td>0</td>\n",
       "      <td>0</td>\n",
       "      <td>0</td>\n",
       "    </tr>\n",
       "    <tr>\n",
       "      <th>predicted_1</th>\n",
       "      <td>0</td>\n",
       "      <td>0</td>\n",
       "      <td>0</td>\n",
       "      <td>0</td>\n",
       "      <td>0</td>\n",
       "    </tr>\n",
       "    <tr>\n",
       "      <th>predicted_2</th>\n",
       "      <td>0</td>\n",
       "      <td>0</td>\n",
       "      <td>0</td>\n",
       "      <td>0</td>\n",
       "      <td>0</td>\n",
       "    </tr>\n",
       "    <tr>\n",
       "      <th>predicted_3</th>\n",
       "      <td>0</td>\n",
       "      <td>0</td>\n",
       "      <td>0</td>\n",
       "      <td>0</td>\n",
       "      <td>0</td>\n",
       "    </tr>\n",
       "    <tr>\n",
       "      <th>predicted_4</th>\n",
       "      <td>1134</td>\n",
       "      <td>1199</td>\n",
       "      <td>1237</td>\n",
       "      <td>1152</td>\n",
       "      <td>1179</td>\n",
       "    </tr>\n",
       "  </tbody>\n",
       "</table>\n",
       "</div>"
      ],
      "text/plain": [
       "             actual_0  actual_1  actual_2  actual_3  actual_4\n",
       "predicted_0         5         0         0         0         0\n",
       "predicted_1         0         0         0         0         0\n",
       "predicted_2         0         0         0         0         0\n",
       "predicted_3         0         0         0         0         0\n",
       "predicted_4      1134      1199      1237      1152      1179"
      ]
     },
     "execution_count": 13,
     "metadata": {},
     "output_type": "execute_result"
    }
   ],
   "source": [
    "get_confusion_matrix(y_pred, y_test)"
   ]
  },
  {
   "cell_type": "code",
   "execution_count": 14,
   "metadata": {},
   "outputs": [
    {
     "data": {
      "text/plain": [
       "0.2204537758211988"
      ]
     },
     "execution_count": 14,
     "metadata": {},
     "output_type": "execute_result"
    }
   ],
   "source": [
    "y_pred = pickled_clf3.predict(X_test)\n",
    "pickled_clf3.score(X_test, y_test)"
   ]
  },
  {
   "cell_type": "code",
   "execution_count": 15,
   "metadata": {
    "scrolled": false
   },
   "outputs": [
    {
     "data": {
      "text/html": [
       "<div>\n",
       "<style scoped>\n",
       "    .dataframe tbody tr th:only-of-type {\n",
       "        vertical-align: middle;\n",
       "    }\n",
       "\n",
       "    .dataframe tbody tr th {\n",
       "        vertical-align: top;\n",
       "    }\n",
       "\n",
       "    .dataframe thead th {\n",
       "        text-align: right;\n",
       "    }\n",
       "</style>\n",
       "<table border=\"1\" class=\"dataframe\">\n",
       "  <thead>\n",
       "    <tr style=\"text-align: right;\">\n",
       "      <th></th>\n",
       "      <th>actual_0</th>\n",
       "      <th>actual_1</th>\n",
       "      <th>actual_2</th>\n",
       "      <th>actual_3</th>\n",
       "      <th>actual_4</th>\n",
       "    </tr>\n",
       "  </thead>\n",
       "  <tbody>\n",
       "    <tr>\n",
       "      <th>predicted_0</th>\n",
       "      <td>214</td>\n",
       "      <td>63</td>\n",
       "      <td>73</td>\n",
       "      <td>97</td>\n",
       "      <td>91</td>\n",
       "    </tr>\n",
       "    <tr>\n",
       "      <th>predicted_1</th>\n",
       "      <td>620</td>\n",
       "      <td>586</td>\n",
       "      <td>566</td>\n",
       "      <td>594</td>\n",
       "      <td>586</td>\n",
       "    </tr>\n",
       "    <tr>\n",
       "      <th>predicted_2</th>\n",
       "      <td>0</td>\n",
       "      <td>0</td>\n",
       "      <td>0</td>\n",
       "      <td>0</td>\n",
       "      <td>0</td>\n",
       "    </tr>\n",
       "    <tr>\n",
       "      <th>predicted_3</th>\n",
       "      <td>0</td>\n",
       "      <td>0</td>\n",
       "      <td>0</td>\n",
       "      <td>0</td>\n",
       "      <td>0</td>\n",
       "    </tr>\n",
       "    <tr>\n",
       "      <th>predicted_4</th>\n",
       "      <td>305</td>\n",
       "      <td>550</td>\n",
       "      <td>598</td>\n",
       "      <td>461</td>\n",
       "      <td>502</td>\n",
       "    </tr>\n",
       "  </tbody>\n",
       "</table>\n",
       "</div>"
      ],
      "text/plain": [
       "             actual_0  actual_1  actual_2  actual_3  actual_4\n",
       "predicted_0       214        63        73        97        91\n",
       "predicted_1       620       586       566       594       586\n",
       "predicted_2         0         0         0         0         0\n",
       "predicted_3         0         0         0         0         0\n",
       "predicted_4       305       550       598       461       502"
      ]
     },
     "execution_count": 15,
     "metadata": {},
     "output_type": "execute_result"
    }
   ],
   "source": [
    "get_confusion_matrix(y_pred, y_test)"
   ]
  },
  {
   "cell_type": "code",
   "execution_count": 16,
   "metadata": {},
   "outputs": [],
   "source": [
    "scaler = MinMaxScaler()\n",
    "scaler.fit(X_train)\n",
    "X_train = scaler.transform(X_train)\n",
    "X_test = scaler.transform(X_test)"
   ]
  },
  {
   "cell_type": "code",
   "execution_count": 17,
   "metadata": {},
   "outputs": [
    {
     "data": {
      "text/plain": [
       "0.2126650863528615"
      ]
     },
     "execution_count": 17,
     "metadata": {},
     "output_type": "execute_result"
    }
   ],
   "source": [
    "y_pred = pickled_clf4.predict(X_test)\n",
    "pickled_clf4.score(X_test, y_test)"
   ]
  },
  {
   "cell_type": "code",
   "execution_count": 18,
   "metadata": {},
   "outputs": [
    {
     "data": {
      "text/html": [
       "<div>\n",
       "<style scoped>\n",
       "    .dataframe tbody tr th:only-of-type {\n",
       "        vertical-align: middle;\n",
       "    }\n",
       "\n",
       "    .dataframe tbody tr th {\n",
       "        vertical-align: top;\n",
       "    }\n",
       "\n",
       "    .dataframe thead th {\n",
       "        text-align: right;\n",
       "    }\n",
       "</style>\n",
       "<table border=\"1\" class=\"dataframe\">\n",
       "  <thead>\n",
       "    <tr style=\"text-align: right;\">\n",
       "      <th></th>\n",
       "      <th>actual_0</th>\n",
       "      <th>actual_1</th>\n",
       "      <th>actual_2</th>\n",
       "      <th>actual_3</th>\n",
       "      <th>actual_4</th>\n",
       "    </tr>\n",
       "  </thead>\n",
       "  <tbody>\n",
       "    <tr>\n",
       "      <th>predicted_0</th>\n",
       "      <td>34</td>\n",
       "      <td>23</td>\n",
       "      <td>38</td>\n",
       "      <td>14</td>\n",
       "      <td>5</td>\n",
       "    </tr>\n",
       "    <tr>\n",
       "      <th>predicted_1</th>\n",
       "      <td>4</td>\n",
       "      <td>3</td>\n",
       "      <td>26</td>\n",
       "      <td>2</td>\n",
       "      <td>0</td>\n",
       "    </tr>\n",
       "    <tr>\n",
       "      <th>predicted_2</th>\n",
       "      <td>14</td>\n",
       "      <td>46</td>\n",
       "      <td>97</td>\n",
       "      <td>28</td>\n",
       "      <td>95</td>\n",
       "    </tr>\n",
       "    <tr>\n",
       "      <th>predicted_3</th>\n",
       "      <td>7</td>\n",
       "      <td>177</td>\n",
       "      <td>126</td>\n",
       "      <td>195</td>\n",
       "      <td>152</td>\n",
       "    </tr>\n",
       "    <tr>\n",
       "      <th>predicted_4</th>\n",
       "      <td>1080</td>\n",
       "      <td>950</td>\n",
       "      <td>950</td>\n",
       "      <td>913</td>\n",
       "      <td>927</td>\n",
       "    </tr>\n",
       "  </tbody>\n",
       "</table>\n",
       "</div>"
      ],
      "text/plain": [
       "             actual_0  actual_1  actual_2  actual_3  actual_4\n",
       "predicted_0        34        23        38        14         5\n",
       "predicted_1         4         3        26         2         0\n",
       "predicted_2        14        46        97        28        95\n",
       "predicted_3         7       177       126       195       152\n",
       "predicted_4      1080       950       950       913       927"
      ]
     },
     "execution_count": 18,
     "metadata": {},
     "output_type": "execute_result"
    }
   ],
   "source": [
    "get_confusion_matrix(y_pred, y_test)"
   ]
  },
  {
   "cell_type": "markdown",
   "metadata": {},
   "source": [
    "# Stabilizer"
   ]
  },
  {
   "cell_type": "code",
   "execution_count": 19,
   "metadata": {},
   "outputs": [],
   "source": [
    "pickled_clf = joblib.load(FOLDER_PATH + 'random_forest_sta.pkl')\n",
    "pickled_clf2 = joblib.load(FOLDER_PATH2 + 'et_sta.pkl')\n",
    "pickled_clf3 = joblib.load(FOLDER_PATH3 + 'adaBoost_sta.pkl')\n",
    "pickled_clf4 = joblib.load(FOLDER_PATH4 + 'svm_sta.pkl')"
   ]
  },
  {
   "cell_type": "code",
   "execution_count": 20,
   "metadata": {},
   "outputs": [],
   "source": [
    "X_sta = df_sta.iloc[:, :-1]\n",
    "y_sta = df_sta[\"label\"]\n",
    "X_train, X_test, y_train, y_test = train_test_split(X_sta, y_sta, test_size=0.2, random_state=42)"
   ]
  },
  {
   "cell_type": "code",
   "execution_count": 21,
   "metadata": {},
   "outputs": [
    {
     "data": {
      "text/plain": [
       "0.390958347443278"
      ]
     },
     "execution_count": 21,
     "metadata": {},
     "output_type": "execute_result"
    }
   ],
   "source": [
    "y_pred = pickled_clf.predict(X_test)\n",
    "pickled_clf.score(X_test, y_test)"
   ]
  },
  {
   "cell_type": "code",
   "execution_count": 22,
   "metadata": {
    "scrolled": true
   },
   "outputs": [
    {
     "data": {
      "text/html": [
       "<div>\n",
       "<style scoped>\n",
       "    .dataframe tbody tr th:only-of-type {\n",
       "        vertical-align: middle;\n",
       "    }\n",
       "\n",
       "    .dataframe tbody tr th {\n",
       "        vertical-align: top;\n",
       "    }\n",
       "\n",
       "    .dataframe thead th {\n",
       "        text-align: right;\n",
       "    }\n",
       "</style>\n",
       "<table border=\"1\" class=\"dataframe\">\n",
       "  <thead>\n",
       "    <tr style=\"text-align: right;\">\n",
       "      <th></th>\n",
       "      <th>actual_0</th>\n",
       "      <th>actual_1</th>\n",
       "      <th>actual_2</th>\n",
       "      <th>actual_3</th>\n",
       "      <th>actual_4</th>\n",
       "    </tr>\n",
       "  </thead>\n",
       "  <tbody>\n",
       "    <tr>\n",
       "      <th>predicted_0</th>\n",
       "      <td>1139</td>\n",
       "      <td>112</td>\n",
       "      <td>107</td>\n",
       "      <td>6</td>\n",
       "      <td>43</td>\n",
       "    </tr>\n",
       "    <tr>\n",
       "      <th>predicted_1</th>\n",
       "      <td>0</td>\n",
       "      <td>303</td>\n",
       "      <td>298</td>\n",
       "      <td>309</td>\n",
       "      <td>345</td>\n",
       "    </tr>\n",
       "    <tr>\n",
       "      <th>predicted_2</th>\n",
       "      <td>0</td>\n",
       "      <td>664</td>\n",
       "      <td>588</td>\n",
       "      <td>465</td>\n",
       "      <td>519</td>\n",
       "    </tr>\n",
       "    <tr>\n",
       "      <th>predicted_3</th>\n",
       "      <td>0</td>\n",
       "      <td>63</td>\n",
       "      <td>150</td>\n",
       "      <td>199</td>\n",
       "      <td>192</td>\n",
       "    </tr>\n",
       "    <tr>\n",
       "      <th>predicted_4</th>\n",
       "      <td>0</td>\n",
       "      <td>57</td>\n",
       "      <td>94</td>\n",
       "      <td>173</td>\n",
       "      <td>80</td>\n",
       "    </tr>\n",
       "  </tbody>\n",
       "</table>\n",
       "</div>"
      ],
      "text/plain": [
       "             actual_0  actual_1  actual_2  actual_3  actual_4\n",
       "predicted_0      1139       112       107         6        43\n",
       "predicted_1         0       303       298       309       345\n",
       "predicted_2         0       664       588       465       519\n",
       "predicted_3         0        63       150       199       192\n",
       "predicted_4         0        57        94       173        80"
      ]
     },
     "execution_count": 22,
     "metadata": {},
     "output_type": "execute_result"
    }
   ],
   "source": [
    "get_confusion_matrix(y_pred, y_test)"
   ]
  },
  {
   "cell_type": "code",
   "execution_count": 23,
   "metadata": {},
   "outputs": [
    {
     "data": {
      "text/plain": [
       "0.4087368777514392"
      ]
     },
     "execution_count": 23,
     "metadata": {},
     "output_type": "execute_result"
    }
   ],
   "source": [
    "y_pred = pickled_clf2.predict(X_test)\n",
    "pickled_clf2.score(X_test, y_test)"
   ]
  },
  {
   "cell_type": "code",
   "execution_count": 24,
   "metadata": {},
   "outputs": [
    {
     "data": {
      "text/html": [
       "<div>\n",
       "<style scoped>\n",
       "    .dataframe tbody tr th:only-of-type {\n",
       "        vertical-align: middle;\n",
       "    }\n",
       "\n",
       "    .dataframe tbody tr th {\n",
       "        vertical-align: top;\n",
       "    }\n",
       "\n",
       "    .dataframe thead th {\n",
       "        text-align: right;\n",
       "    }\n",
       "</style>\n",
       "<table border=\"1\" class=\"dataframe\">\n",
       "  <thead>\n",
       "    <tr style=\"text-align: right;\">\n",
       "      <th></th>\n",
       "      <th>actual_0</th>\n",
       "      <th>actual_1</th>\n",
       "      <th>actual_2</th>\n",
       "      <th>actual_3</th>\n",
       "      <th>actual_4</th>\n",
       "    </tr>\n",
       "  </thead>\n",
       "  <tbody>\n",
       "    <tr>\n",
       "      <th>predicted_0</th>\n",
       "      <td>1139</td>\n",
       "      <td>85</td>\n",
       "      <td>71</td>\n",
       "      <td>2</td>\n",
       "      <td>26</td>\n",
       "    </tr>\n",
       "    <tr>\n",
       "      <th>predicted_1</th>\n",
       "      <td>0</td>\n",
       "      <td>312</td>\n",
       "      <td>278</td>\n",
       "      <td>276</td>\n",
       "      <td>312</td>\n",
       "    </tr>\n",
       "    <tr>\n",
       "      <th>predicted_2</th>\n",
       "      <td>0</td>\n",
       "      <td>671</td>\n",
       "      <td>641</td>\n",
       "      <td>485</td>\n",
       "      <td>549</td>\n",
       "    </tr>\n",
       "    <tr>\n",
       "      <th>predicted_3</th>\n",
       "      <td>0</td>\n",
       "      <td>60</td>\n",
       "      <td>158</td>\n",
       "      <td>222</td>\n",
       "      <td>192</td>\n",
       "    </tr>\n",
       "    <tr>\n",
       "      <th>predicted_4</th>\n",
       "      <td>0</td>\n",
       "      <td>71</td>\n",
       "      <td>89</td>\n",
       "      <td>167</td>\n",
       "      <td>100</td>\n",
       "    </tr>\n",
       "  </tbody>\n",
       "</table>\n",
       "</div>"
      ],
      "text/plain": [
       "             actual_0  actual_1  actual_2  actual_3  actual_4\n",
       "predicted_0      1139        85        71         2        26\n",
       "predicted_1         0       312       278       276       312\n",
       "predicted_2         0       671       641       485       549\n",
       "predicted_3         0        60       158       222       192\n",
       "predicted_4         0        71        89       167       100"
      ]
     },
     "execution_count": 24,
     "metadata": {},
     "output_type": "execute_result"
    }
   ],
   "source": [
    "get_confusion_matrix(y_pred, y_test)"
   ]
  },
  {
   "cell_type": "code",
   "execution_count": 25,
   "metadata": {},
   "outputs": [
    {
     "data": {
      "text/plain": [
       "0.4209278699627497"
      ]
     },
     "execution_count": 25,
     "metadata": {},
     "output_type": "execute_result"
    }
   ],
   "source": [
    "y_pred = pickled_clf3.predict(X_test)\n",
    "pickled_clf3.score(X_test, y_test)"
   ]
  },
  {
   "cell_type": "code",
   "execution_count": 26,
   "metadata": {},
   "outputs": [
    {
     "data": {
      "text/html": [
       "<div>\n",
       "<style scoped>\n",
       "    .dataframe tbody tr th:only-of-type {\n",
       "        vertical-align: middle;\n",
       "    }\n",
       "\n",
       "    .dataframe tbody tr th {\n",
       "        vertical-align: top;\n",
       "    }\n",
       "\n",
       "    .dataframe thead th {\n",
       "        text-align: right;\n",
       "    }\n",
       "</style>\n",
       "<table border=\"1\" class=\"dataframe\">\n",
       "  <thead>\n",
       "    <tr style=\"text-align: right;\">\n",
       "      <th></th>\n",
       "      <th>actual_0</th>\n",
       "      <th>actual_1</th>\n",
       "      <th>actual_2</th>\n",
       "      <th>actual_3</th>\n",
       "      <th>actual_4</th>\n",
       "    </tr>\n",
       "  </thead>\n",
       "  <tbody>\n",
       "    <tr>\n",
       "      <th>predicted_0</th>\n",
       "      <td>1139</td>\n",
       "      <td>43</td>\n",
       "      <td>29</td>\n",
       "      <td>1</td>\n",
       "      <td>5</td>\n",
       "    </tr>\n",
       "    <tr>\n",
       "      <th>predicted_1</th>\n",
       "      <td>0</td>\n",
       "      <td>313</td>\n",
       "      <td>304</td>\n",
       "      <td>217</td>\n",
       "      <td>193</td>\n",
       "    </tr>\n",
       "    <tr>\n",
       "      <th>predicted_2</th>\n",
       "      <td>0</td>\n",
       "      <td>713</td>\n",
       "      <td>654</td>\n",
       "      <td>505</td>\n",
       "      <td>706</td>\n",
       "    </tr>\n",
       "    <tr>\n",
       "      <th>predicted_3</th>\n",
       "      <td>0</td>\n",
       "      <td>68</td>\n",
       "      <td>166</td>\n",
       "      <td>336</td>\n",
       "      <td>231</td>\n",
       "    </tr>\n",
       "    <tr>\n",
       "      <th>predicted_4</th>\n",
       "      <td>0</td>\n",
       "      <td>62</td>\n",
       "      <td>84</td>\n",
       "      <td>93</td>\n",
       "      <td>44</td>\n",
       "    </tr>\n",
       "  </tbody>\n",
       "</table>\n",
       "</div>"
      ],
      "text/plain": [
       "             actual_0  actual_1  actual_2  actual_3  actual_4\n",
       "predicted_0      1139        43        29         1         5\n",
       "predicted_1         0       313       304       217       193\n",
       "predicted_2         0       713       654       505       706\n",
       "predicted_3         0        68       166       336       231\n",
       "predicted_4         0        62        84        93        44"
      ]
     },
     "execution_count": 26,
     "metadata": {},
     "output_type": "execute_result"
    }
   ],
   "source": [
    "get_confusion_matrix(y_pred, y_test)"
   ]
  },
  {
   "cell_type": "code",
   "execution_count": 27,
   "metadata": {},
   "outputs": [],
   "source": [
    "scaler = MinMaxScaler()\n",
    "scaler.fit(X_train)\n",
    "X_train = scaler.transform(X_train)\n",
    "X_test = scaler.transform(X_test)"
   ]
  },
  {
   "cell_type": "code",
   "execution_count": 28,
   "metadata": {},
   "outputs": [
    {
     "data": {
      "text/plain": [
       "0.4033186589908568"
      ]
     },
     "execution_count": 28,
     "metadata": {},
     "output_type": "execute_result"
    }
   ],
   "source": [
    "y_pred = pickled_clf4.predict(X_test)\n",
    "pickled_clf4.score(X_test, y_test)"
   ]
  },
  {
   "cell_type": "code",
   "execution_count": 29,
   "metadata": {},
   "outputs": [
    {
     "data": {
      "text/html": [
       "<div>\n",
       "<style scoped>\n",
       "    .dataframe tbody tr th:only-of-type {\n",
       "        vertical-align: middle;\n",
       "    }\n",
       "\n",
       "    .dataframe tbody tr th {\n",
       "        vertical-align: top;\n",
       "    }\n",
       "\n",
       "    .dataframe thead th {\n",
       "        text-align: right;\n",
       "    }\n",
       "</style>\n",
       "<table border=\"1\" class=\"dataframe\">\n",
       "  <thead>\n",
       "    <tr style=\"text-align: right;\">\n",
       "      <th></th>\n",
       "      <th>actual_0</th>\n",
       "      <th>actual_1</th>\n",
       "      <th>actual_2</th>\n",
       "      <th>actual_3</th>\n",
       "      <th>actual_4</th>\n",
       "    </tr>\n",
       "  </thead>\n",
       "  <tbody>\n",
       "    <tr>\n",
       "      <th>predicted_0</th>\n",
       "      <td>1139</td>\n",
       "      <td>76</td>\n",
       "      <td>66</td>\n",
       "      <td>10</td>\n",
       "      <td>25</td>\n",
       "    </tr>\n",
       "    <tr>\n",
       "      <th>predicted_1</th>\n",
       "      <td>0</td>\n",
       "      <td>411</td>\n",
       "      <td>497</td>\n",
       "      <td>364</td>\n",
       "      <td>410</td>\n",
       "    </tr>\n",
       "    <tr>\n",
       "      <th>predicted_2</th>\n",
       "      <td>0</td>\n",
       "      <td>364</td>\n",
       "      <td>255</td>\n",
       "      <td>177</td>\n",
       "      <td>214</td>\n",
       "    </tr>\n",
       "    <tr>\n",
       "      <th>predicted_3</th>\n",
       "      <td>0</td>\n",
       "      <td>232</td>\n",
       "      <td>262</td>\n",
       "      <td>399</td>\n",
       "      <td>352</td>\n",
       "    </tr>\n",
       "    <tr>\n",
       "      <th>predicted_4</th>\n",
       "      <td>0</td>\n",
       "      <td>116</td>\n",
       "      <td>157</td>\n",
       "      <td>202</td>\n",
       "      <td>178</td>\n",
       "    </tr>\n",
       "  </tbody>\n",
       "</table>\n",
       "</div>"
      ],
      "text/plain": [
       "             actual_0  actual_1  actual_2  actual_3  actual_4\n",
       "predicted_0      1139        76        66        10        25\n",
       "predicted_1         0       411       497       364       410\n",
       "predicted_2         0       364       255       177       214\n",
       "predicted_3         0       232       262       399       352\n",
       "predicted_4         0       116       157       202       178"
      ]
     },
     "execution_count": 29,
     "metadata": {},
     "output_type": "execute_result"
    }
   ],
   "source": [
    "get_confusion_matrix(y_pred, y_test)"
   ]
  },
  {
   "cell_type": "markdown",
   "metadata": {},
   "source": [
    "# Gyro"
   ]
  },
  {
   "cell_type": "code",
   "execution_count": 30,
   "metadata": {},
   "outputs": [],
   "source": [
    "pickled_clf = joblib.load(FOLDER_PATH + 'random_forest_gyro.pkl')\n",
    "pickled_clf2 = joblib.load(FOLDER_PATH2 + 'et_gyro.pkl')\n",
    "pickled_clf3 = joblib.load(FOLDER_PATH3 + 'adaBoost_gyro.pkl')\n",
    "pickled_clf4 = joblib.load(FOLDER_PATH4 + 'svm_gyro.pkl')"
   ]
  },
  {
   "cell_type": "code",
   "execution_count": 31,
   "metadata": {},
   "outputs": [],
   "source": [
    "X_gyro = df_gyro.iloc[:, :-1]\n",
    "y_gyro = df_gyro[\"label\"]\n",
    "X_train, X_test, y_train, y_test = train_test_split(X_gyro, y_gyro, test_size=0.2, random_state=42)"
   ]
  },
  {
   "cell_type": "code",
   "execution_count": 32,
   "metadata": {},
   "outputs": [
    {
     "data": {
      "text/plain": [
       "0.4871317304436167"
      ]
     },
     "execution_count": 32,
     "metadata": {},
     "output_type": "execute_result"
    }
   ],
   "source": [
    "y_pred = pickled_clf.predict(X_test)\n",
    "pickled_clf.score(X_test, y_test)"
   ]
  },
  {
   "cell_type": "code",
   "execution_count": 33,
   "metadata": {},
   "outputs": [
    {
     "data": {
      "text/html": [
       "<div>\n",
       "<style scoped>\n",
       "    .dataframe tbody tr th:only-of-type {\n",
       "        vertical-align: middle;\n",
       "    }\n",
       "\n",
       "    .dataframe tbody tr th {\n",
       "        vertical-align: top;\n",
       "    }\n",
       "\n",
       "    .dataframe thead th {\n",
       "        text-align: right;\n",
       "    }\n",
       "</style>\n",
       "<table border=\"1\" class=\"dataframe\">\n",
       "  <thead>\n",
       "    <tr style=\"text-align: right;\">\n",
       "      <th></th>\n",
       "      <th>actual_0</th>\n",
       "      <th>actual_1</th>\n",
       "      <th>actual_2</th>\n",
       "      <th>actual_3</th>\n",
       "      <th>actual_4</th>\n",
       "    </tr>\n",
       "  </thead>\n",
       "  <tbody>\n",
       "    <tr>\n",
       "      <th>predicted_0</th>\n",
       "      <td>1139</td>\n",
       "      <td>16</td>\n",
       "      <td>0</td>\n",
       "      <td>0</td>\n",
       "      <td>0</td>\n",
       "    </tr>\n",
       "    <tr>\n",
       "      <th>predicted_1</th>\n",
       "      <td>0</td>\n",
       "      <td>796</td>\n",
       "      <td>572</td>\n",
       "      <td>231</td>\n",
       "      <td>234</td>\n",
       "    </tr>\n",
       "    <tr>\n",
       "      <th>predicted_2</th>\n",
       "      <td>0</td>\n",
       "      <td>319</td>\n",
       "      <td>477</td>\n",
       "      <td>368</td>\n",
       "      <td>389</td>\n",
       "    </tr>\n",
       "    <tr>\n",
       "      <th>predicted_3</th>\n",
       "      <td>0</td>\n",
       "      <td>58</td>\n",
       "      <td>93</td>\n",
       "      <td>252</td>\n",
       "      <td>343</td>\n",
       "    </tr>\n",
       "    <tr>\n",
       "      <th>predicted_4</th>\n",
       "      <td>0</td>\n",
       "      <td>10</td>\n",
       "      <td>95</td>\n",
       "      <td>301</td>\n",
       "      <td>213</td>\n",
       "    </tr>\n",
       "  </tbody>\n",
       "</table>\n",
       "</div>"
      ],
      "text/plain": [
       "             actual_0  actual_1  actual_2  actual_3  actual_4\n",
       "predicted_0      1139        16         0         0         0\n",
       "predicted_1         0       796       572       231       234\n",
       "predicted_2         0       319       477       368       389\n",
       "predicted_3         0        58        93       252       343\n",
       "predicted_4         0        10        95       301       213"
      ]
     },
     "execution_count": 33,
     "metadata": {},
     "output_type": "execute_result"
    }
   ],
   "source": [
    "get_confusion_matrix(y_pred, y_test)"
   ]
  },
  {
   "cell_type": "code",
   "execution_count": 34,
   "metadata": {},
   "outputs": [
    {
     "data": {
      "text/plain": [
       "0.48611581442600743"
      ]
     },
     "execution_count": 34,
     "metadata": {},
     "output_type": "execute_result"
    }
   ],
   "source": [
    "y_pred = pickled_clf2.predict(X_test)\n",
    "pickled_clf2.score(X_test, y_test)"
   ]
  },
  {
   "cell_type": "code",
   "execution_count": 35,
   "metadata": {},
   "outputs": [
    {
     "data": {
      "text/html": [
       "<div>\n",
       "<style scoped>\n",
       "    .dataframe tbody tr th:only-of-type {\n",
       "        vertical-align: middle;\n",
       "    }\n",
       "\n",
       "    .dataframe tbody tr th {\n",
       "        vertical-align: top;\n",
       "    }\n",
       "\n",
       "    .dataframe thead th {\n",
       "        text-align: right;\n",
       "    }\n",
       "</style>\n",
       "<table border=\"1\" class=\"dataframe\">\n",
       "  <thead>\n",
       "    <tr style=\"text-align: right;\">\n",
       "      <th></th>\n",
       "      <th>actual_0</th>\n",
       "      <th>actual_1</th>\n",
       "      <th>actual_2</th>\n",
       "      <th>actual_3</th>\n",
       "      <th>actual_4</th>\n",
       "    </tr>\n",
       "  </thead>\n",
       "  <tbody>\n",
       "    <tr>\n",
       "      <th>predicted_0</th>\n",
       "      <td>1139</td>\n",
       "      <td>16</td>\n",
       "      <td>0</td>\n",
       "      <td>0</td>\n",
       "      <td>0</td>\n",
       "    </tr>\n",
       "    <tr>\n",
       "      <th>predicted_1</th>\n",
       "      <td>0</td>\n",
       "      <td>806</td>\n",
       "      <td>607</td>\n",
       "      <td>236</td>\n",
       "      <td>254</td>\n",
       "    </tr>\n",
       "    <tr>\n",
       "      <th>predicted_2</th>\n",
       "      <td>0</td>\n",
       "      <td>309</td>\n",
       "      <td>440</td>\n",
       "      <td>364</td>\n",
       "      <td>367</td>\n",
       "    </tr>\n",
       "    <tr>\n",
       "      <th>predicted_3</th>\n",
       "      <td>0</td>\n",
       "      <td>59</td>\n",
       "      <td>96</td>\n",
       "      <td>258</td>\n",
       "      <td>330</td>\n",
       "    </tr>\n",
       "    <tr>\n",
       "      <th>predicted_4</th>\n",
       "      <td>0</td>\n",
       "      <td>9</td>\n",
       "      <td>94</td>\n",
       "      <td>294</td>\n",
       "      <td>228</td>\n",
       "    </tr>\n",
       "  </tbody>\n",
       "</table>\n",
       "</div>"
      ],
      "text/plain": [
       "             actual_0  actual_1  actual_2  actual_3  actual_4\n",
       "predicted_0      1139        16         0         0         0\n",
       "predicted_1         0       806       607       236       254\n",
       "predicted_2         0       309       440       364       367\n",
       "predicted_3         0        59        96       258       330\n",
       "predicted_4         0         9        94       294       228"
      ]
     },
     "execution_count": 35,
     "metadata": {},
     "output_type": "execute_result"
    }
   ],
   "source": [
    "get_confusion_matrix(y_pred, y_test)"
   ]
  },
  {
   "cell_type": "code",
   "execution_count": 36,
   "metadata": {},
   "outputs": [
    {
     "data": {
      "text/plain": [
       "0.4891635624788351"
      ]
     },
     "execution_count": 36,
     "metadata": {},
     "output_type": "execute_result"
    }
   ],
   "source": [
    "y_pred = pickled_clf3.predict(X_test)\n",
    "pickled_clf3.score(X_test, y_test)"
   ]
  },
  {
   "cell_type": "code",
   "execution_count": 37,
   "metadata": {},
   "outputs": [
    {
     "data": {
      "text/html": [
       "<div>\n",
       "<style scoped>\n",
       "    .dataframe tbody tr th:only-of-type {\n",
       "        vertical-align: middle;\n",
       "    }\n",
       "\n",
       "    .dataframe tbody tr th {\n",
       "        vertical-align: top;\n",
       "    }\n",
       "\n",
       "    .dataframe thead th {\n",
       "        text-align: right;\n",
       "    }\n",
       "</style>\n",
       "<table border=\"1\" class=\"dataframe\">\n",
       "  <thead>\n",
       "    <tr style=\"text-align: right;\">\n",
       "      <th></th>\n",
       "      <th>actual_0</th>\n",
       "      <th>actual_1</th>\n",
       "      <th>actual_2</th>\n",
       "      <th>actual_3</th>\n",
       "      <th>actual_4</th>\n",
       "    </tr>\n",
       "  </thead>\n",
       "  <tbody>\n",
       "    <tr>\n",
       "      <th>predicted_0</th>\n",
       "      <td>1139</td>\n",
       "      <td>14</td>\n",
       "      <td>0</td>\n",
       "      <td>0</td>\n",
       "      <td>0</td>\n",
       "    </tr>\n",
       "    <tr>\n",
       "      <th>predicted_1</th>\n",
       "      <td>0</td>\n",
       "      <td>694</td>\n",
       "      <td>424</td>\n",
       "      <td>142</td>\n",
       "      <td>126</td>\n",
       "    </tr>\n",
       "    <tr>\n",
       "      <th>predicted_2</th>\n",
       "      <td>0</td>\n",
       "      <td>396</td>\n",
       "      <td>518</td>\n",
       "      <td>433</td>\n",
       "      <td>340</td>\n",
       "    </tr>\n",
       "    <tr>\n",
       "      <th>predicted_3</th>\n",
       "      <td>0</td>\n",
       "      <td>81</td>\n",
       "      <td>179</td>\n",
       "      <td>251</td>\n",
       "      <td>426</td>\n",
       "    </tr>\n",
       "    <tr>\n",
       "      <th>predicted_4</th>\n",
       "      <td>0</td>\n",
       "      <td>14</td>\n",
       "      <td>116</td>\n",
       "      <td>326</td>\n",
       "      <td>287</td>\n",
       "    </tr>\n",
       "  </tbody>\n",
       "</table>\n",
       "</div>"
      ],
      "text/plain": [
       "             actual_0  actual_1  actual_2  actual_3  actual_4\n",
       "predicted_0      1139        14         0         0         0\n",
       "predicted_1         0       694       424       142       126\n",
       "predicted_2         0       396       518       433       340\n",
       "predicted_3         0        81       179       251       426\n",
       "predicted_4         0        14       116       326       287"
      ]
     },
     "execution_count": 37,
     "metadata": {},
     "output_type": "execute_result"
    }
   ],
   "source": [
    "get_confusion_matrix(y_pred, y_test)"
   ]
  },
  {
   "cell_type": "code",
   "execution_count": 38,
   "metadata": {},
   "outputs": [],
   "source": [
    "scaler = MinMaxScaler()\n",
    "scaler.fit(X_train)\n",
    "X_train = scaler.transform(X_train)\n",
    "X_test = scaler.transform(X_test)"
   ]
  },
  {
   "cell_type": "code",
   "execution_count": 39,
   "metadata": {},
   "outputs": [
    {
     "data": {
      "text/plain": [
       "0.47697257026752454"
      ]
     },
     "execution_count": 39,
     "metadata": {},
     "output_type": "execute_result"
    }
   ],
   "source": [
    "y_pred = pickled_clf4.predict(X_test)\n",
    "pickled_clf4.score(X_test, y_test)"
   ]
  },
  {
   "cell_type": "code",
   "execution_count": 40,
   "metadata": {},
   "outputs": [
    {
     "data": {
      "text/html": [
       "<div>\n",
       "<style scoped>\n",
       "    .dataframe tbody tr th:only-of-type {\n",
       "        vertical-align: middle;\n",
       "    }\n",
       "\n",
       "    .dataframe tbody tr th {\n",
       "        vertical-align: top;\n",
       "    }\n",
       "\n",
       "    .dataframe thead th {\n",
       "        text-align: right;\n",
       "    }\n",
       "</style>\n",
       "<table border=\"1\" class=\"dataframe\">\n",
       "  <thead>\n",
       "    <tr style=\"text-align: right;\">\n",
       "      <th></th>\n",
       "      <th>actual_0</th>\n",
       "      <th>actual_1</th>\n",
       "      <th>actual_2</th>\n",
       "      <th>actual_3</th>\n",
       "      <th>actual_4</th>\n",
       "    </tr>\n",
       "  </thead>\n",
       "  <tbody>\n",
       "    <tr>\n",
       "      <th>predicted_0</th>\n",
       "      <td>1059</td>\n",
       "      <td>4</td>\n",
       "      <td>0</td>\n",
       "      <td>0</td>\n",
       "      <td>0</td>\n",
       "    </tr>\n",
       "    <tr>\n",
       "      <th>predicted_1</th>\n",
       "      <td>0</td>\n",
       "      <td>489</td>\n",
       "      <td>224</td>\n",
       "      <td>138</td>\n",
       "      <td>94</td>\n",
       "    </tr>\n",
       "    <tr>\n",
       "      <th>predicted_2</th>\n",
       "      <td>0</td>\n",
       "      <td>406</td>\n",
       "      <td>500</td>\n",
       "      <td>268</td>\n",
       "      <td>281</td>\n",
       "    </tr>\n",
       "    <tr>\n",
       "      <th>predicted_3</th>\n",
       "      <td>80</td>\n",
       "      <td>281</td>\n",
       "      <td>421</td>\n",
       "      <td>550</td>\n",
       "      <td>585</td>\n",
       "    </tr>\n",
       "    <tr>\n",
       "      <th>predicted_4</th>\n",
       "      <td>0</td>\n",
       "      <td>19</td>\n",
       "      <td>92</td>\n",
       "      <td>196</td>\n",
       "      <td>219</td>\n",
       "    </tr>\n",
       "  </tbody>\n",
       "</table>\n",
       "</div>"
      ],
      "text/plain": [
       "             actual_0  actual_1  actual_2  actual_3  actual_4\n",
       "predicted_0      1059         4         0         0         0\n",
       "predicted_1         0       489       224       138        94\n",
       "predicted_2         0       406       500       268       281\n",
       "predicted_3        80       281       421       550       585\n",
       "predicted_4         0        19        92       196       219"
      ]
     },
     "execution_count": 40,
     "metadata": {},
     "output_type": "execute_result"
    }
   ],
   "source": [
    "get_confusion_matrix(y_pred, y_test)"
   ]
  },
  {
   "cell_type": "markdown",
   "metadata": {},
   "source": [
    "# Gyro + Accelerometer"
   ]
  },
  {
   "cell_type": "code",
   "execution_count": 41,
   "metadata": {},
   "outputs": [],
   "source": [
    "pickled_clf = joblib.load(FOLDER_PATH + 'random_forest_gyro_acc.pkl')\n",
    "pickled_clf2 = joblib.load(FOLDER_PATH2 + 'et_gyro_acc.pkl')\n",
    "pickled_clf3 = joblib.load(FOLDER_PATH3 + 'adaBoost_gyro_acc.pkl')\n",
    "pickled_clf4 = joblib.load(FOLDER_PATH4 + 'svm_gyro_acc.pkl')"
   ]
  },
  {
   "cell_type": "code",
   "execution_count": 42,
   "metadata": {},
   "outputs": [
    {
     "data": {
      "text/html": [
       "<div>\n",
       "<style scoped>\n",
       "    .dataframe tbody tr th:only-of-type {\n",
       "        vertical-align: middle;\n",
       "    }\n",
       "\n",
       "    .dataframe tbody tr th {\n",
       "        vertical-align: top;\n",
       "    }\n",
       "\n",
       "    .dataframe thead th {\n",
       "        text-align: right;\n",
       "    }\n",
       "</style>\n",
       "<table border=\"1\" class=\"dataframe\">\n",
       "  <thead>\n",
       "    <tr style=\"text-align: right;\">\n",
       "      <th></th>\n",
       "      <th>mu_x_gyro</th>\n",
       "      <th>mu_y_gyro</th>\n",
       "      <th>mu_z_gyro</th>\n",
       "      <th>std_x_gyro</th>\n",
       "      <th>std_y_gyro</th>\n",
       "      <th>std_z_gyro</th>\n",
       "      <th>avg_resultant_acc_gyro</th>\n",
       "      <th>bins_0_gyro</th>\n",
       "      <th>bins_1_gyro</th>\n",
       "      <th>bins_2_gyro</th>\n",
       "      <th>...</th>\n",
       "      <th>bins_23_acc</th>\n",
       "      <th>bins_24_acc</th>\n",
       "      <th>bins_25_acc</th>\n",
       "      <th>bins_26_acc</th>\n",
       "      <th>bins_27_acc</th>\n",
       "      <th>bins_28_acc</th>\n",
       "      <th>bins_29_acc</th>\n",
       "      <th>mean_average_difference_x_acc</th>\n",
       "      <th>mean_average_difference_y_acc</th>\n",
       "      <th>mean_average_difference_z_acc</th>\n",
       "    </tr>\n",
       "  </thead>\n",
       "  <tbody>\n",
       "    <tr>\n",
       "      <th>0</th>\n",
       "      <td>-0.009106</td>\n",
       "      <td>-0.578250</td>\n",
       "      <td>-0.486069</td>\n",
       "      <td>3.636300</td>\n",
       "      <td>3.134631</td>\n",
       "      <td>1.004733</td>\n",
       "      <td>4.464595</td>\n",
       "      <td>4.0</td>\n",
       "      <td>4.0</td>\n",
       "      <td>9.0</td>\n",
       "      <td>...</td>\n",
       "      <td>11.0</td>\n",
       "      <td>17.0</td>\n",
       "      <td>11.0</td>\n",
       "      <td>10.0</td>\n",
       "      <td>11.0</td>\n",
       "      <td>3.0</td>\n",
       "      <td>2.0</td>\n",
       "      <td>0.055929</td>\n",
       "      <td>0.082545</td>\n",
       "      <td>0.045830</td>\n",
       "    </tr>\n",
       "    <tr>\n",
       "      <th>1</th>\n",
       "      <td>-0.004169</td>\n",
       "      <td>-0.596648</td>\n",
       "      <td>-0.490217</td>\n",
       "      <td>3.636975</td>\n",
       "      <td>3.149316</td>\n",
       "      <td>1.014886</td>\n",
       "      <td>4.481096</td>\n",
       "      <td>4.0</td>\n",
       "      <td>4.0</td>\n",
       "      <td>9.0</td>\n",
       "      <td>...</td>\n",
       "      <td>11.0</td>\n",
       "      <td>16.0</td>\n",
       "      <td>12.0</td>\n",
       "      <td>10.0</td>\n",
       "      <td>11.0</td>\n",
       "      <td>3.0</td>\n",
       "      <td>2.0</td>\n",
       "      <td>0.055811</td>\n",
       "      <td>0.082538</td>\n",
       "      <td>0.045966</td>\n",
       "    </tr>\n",
       "    <tr>\n",
       "      <th>2</th>\n",
       "      <td>0.002094</td>\n",
       "      <td>-0.615925</td>\n",
       "      <td>-0.497787</td>\n",
       "      <td>3.635308</td>\n",
       "      <td>3.155434</td>\n",
       "      <td>1.033801</td>\n",
       "      <td>4.494133</td>\n",
       "      <td>4.0</td>\n",
       "      <td>4.0</td>\n",
       "      <td>9.0</td>\n",
       "      <td>...</td>\n",
       "      <td>11.0</td>\n",
       "      <td>17.0</td>\n",
       "      <td>12.0</td>\n",
       "      <td>10.0</td>\n",
       "      <td>11.0</td>\n",
       "      <td>3.0</td>\n",
       "      <td>2.0</td>\n",
       "      <td>0.055613</td>\n",
       "      <td>0.082113</td>\n",
       "      <td>0.045592</td>\n",
       "    </tr>\n",
       "    <tr>\n",
       "      <th>3</th>\n",
       "      <td>0.009925</td>\n",
       "      <td>-0.641325</td>\n",
       "      <td>-0.503862</td>\n",
       "      <td>3.631776</td>\n",
       "      <td>3.149600</td>\n",
       "      <td>1.047752</td>\n",
       "      <td>4.494840</td>\n",
       "      <td>4.0</td>\n",
       "      <td>4.0</td>\n",
       "      <td>9.0</td>\n",
       "      <td>...</td>\n",
       "      <td>11.0</td>\n",
       "      <td>18.0</td>\n",
       "      <td>12.0</td>\n",
       "      <td>10.0</td>\n",
       "      <td>11.0</td>\n",
       "      <td>3.0</td>\n",
       "      <td>2.0</td>\n",
       "      <td>0.055054</td>\n",
       "      <td>0.080346</td>\n",
       "      <td>0.044611</td>\n",
       "    </tr>\n",
       "    <tr>\n",
       "      <th>4</th>\n",
       "      <td>0.027315</td>\n",
       "      <td>-0.684527</td>\n",
       "      <td>-0.517753</td>\n",
       "      <td>3.622390</td>\n",
       "      <td>3.117040</td>\n",
       "      <td>1.080746</td>\n",
       "      <td>4.480896</td>\n",
       "      <td>4.0</td>\n",
       "      <td>4.0</td>\n",
       "      <td>9.0</td>\n",
       "      <td>...</td>\n",
       "      <td>11.0</td>\n",
       "      <td>18.0</td>\n",
       "      <td>13.0</td>\n",
       "      <td>10.0</td>\n",
       "      <td>11.0</td>\n",
       "      <td>3.0</td>\n",
       "      <td>2.0</td>\n",
       "      <td>0.054298</td>\n",
       "      <td>0.079964</td>\n",
       "      <td>0.044367</td>\n",
       "    </tr>\n",
       "  </tbody>\n",
       "</table>\n",
       "<p>5 rows × 80 columns</p>\n",
       "</div>"
      ],
      "text/plain": [
       "   mu_x_gyro  mu_y_gyro  mu_z_gyro  std_x_gyro  std_y_gyro  std_z_gyro  \\\n",
       "0  -0.009106  -0.578250  -0.486069    3.636300    3.134631    1.004733   \n",
       "1  -0.004169  -0.596648  -0.490217    3.636975    3.149316    1.014886   \n",
       "2   0.002094  -0.615925  -0.497787    3.635308    3.155434    1.033801   \n",
       "3   0.009925  -0.641325  -0.503862    3.631776    3.149600    1.047752   \n",
       "4   0.027315  -0.684527  -0.517753    3.622390    3.117040    1.080746   \n",
       "\n",
       "   avg_resultant_acc_gyro  bins_0_gyro  bins_1_gyro  bins_2_gyro  \\\n",
       "0                4.464595          4.0          4.0          9.0   \n",
       "1                4.481096          4.0          4.0          9.0   \n",
       "2                4.494133          4.0          4.0          9.0   \n",
       "3                4.494840          4.0          4.0          9.0   \n",
       "4                4.480896          4.0          4.0          9.0   \n",
       "\n",
       "               ...                bins_23_acc  bins_24_acc  bins_25_acc  \\\n",
       "0              ...                       11.0         17.0         11.0   \n",
       "1              ...                       11.0         16.0         12.0   \n",
       "2              ...                       11.0         17.0         12.0   \n",
       "3              ...                       11.0         18.0         12.0   \n",
       "4              ...                       11.0         18.0         13.0   \n",
       "\n",
       "   bins_26_acc  bins_27_acc  bins_28_acc  bins_29_acc  \\\n",
       "0         10.0         11.0          3.0          2.0   \n",
       "1         10.0         11.0          3.0          2.0   \n",
       "2         10.0         11.0          3.0          2.0   \n",
       "3         10.0         11.0          3.0          2.0   \n",
       "4         10.0         11.0          3.0          2.0   \n",
       "\n",
       "   mean_average_difference_x_acc  mean_average_difference_y_acc  \\\n",
       "0                       0.055929                       0.082545   \n",
       "1                       0.055811                       0.082538   \n",
       "2                       0.055613                       0.082113   \n",
       "3                       0.055054                       0.080346   \n",
       "4                       0.054298                       0.079964   \n",
       "\n",
       "   mean_average_difference_z_acc  \n",
       "0                       0.045830  \n",
       "1                       0.045966  \n",
       "2                       0.045592  \n",
       "3                       0.044611  \n",
       "4                       0.044367  \n",
       "\n",
       "[5 rows x 80 columns]"
      ]
     },
     "execution_count": 42,
     "metadata": {},
     "output_type": "execute_result"
    }
   ],
   "source": [
    "X_gyro_acc = pd.concat([X_gyro, X_acc], axis=1)\n",
    "y_gyro_acc = y_gyro\n",
    "X_gyro_acc.head()"
   ]
  },
  {
   "cell_type": "code",
   "execution_count": 43,
   "metadata": {},
   "outputs": [],
   "source": [
    "X_train, X_test, y_train, y_test = train_test_split(X_gyro_acc, y_gyro_acc, test_size=0.2, random_state=42)"
   ]
  },
  {
   "cell_type": "code",
   "execution_count": 44,
   "metadata": {},
   "outputs": [
    {
     "data": {
      "text/plain": [
       "0.39349813748730106"
      ]
     },
     "execution_count": 44,
     "metadata": {},
     "output_type": "execute_result"
    }
   ],
   "source": [
    "y_pred = pickled_clf.predict(X_test)\n",
    "pickled_clf.score(X_test, y_test)"
   ]
  },
  {
   "cell_type": "code",
   "execution_count": 45,
   "metadata": {},
   "outputs": [
    {
     "data": {
      "text/html": [
       "<div>\n",
       "<style scoped>\n",
       "    .dataframe tbody tr th:only-of-type {\n",
       "        vertical-align: middle;\n",
       "    }\n",
       "\n",
       "    .dataframe tbody tr th {\n",
       "        vertical-align: top;\n",
       "    }\n",
       "\n",
       "    .dataframe thead th {\n",
       "        text-align: right;\n",
       "    }\n",
       "</style>\n",
       "<table border=\"1\" class=\"dataframe\">\n",
       "  <thead>\n",
       "    <tr style=\"text-align: right;\">\n",
       "      <th></th>\n",
       "      <th>actual_0</th>\n",
       "      <th>actual_1</th>\n",
       "      <th>actual_2</th>\n",
       "      <th>actual_3</th>\n",
       "      <th>actual_4</th>\n",
       "    </tr>\n",
       "  </thead>\n",
       "  <tbody>\n",
       "    <tr>\n",
       "      <th>predicted_0</th>\n",
       "      <td>1139</td>\n",
       "      <td>0</td>\n",
       "      <td>0</td>\n",
       "      <td>0</td>\n",
       "      <td>0</td>\n",
       "    </tr>\n",
       "    <tr>\n",
       "      <th>predicted_1</th>\n",
       "      <td>0</td>\n",
       "      <td>0</td>\n",
       "      <td>0</td>\n",
       "      <td>0</td>\n",
       "      <td>0</td>\n",
       "    </tr>\n",
       "    <tr>\n",
       "      <th>predicted_2</th>\n",
       "      <td>0</td>\n",
       "      <td>0</td>\n",
       "      <td>6</td>\n",
       "      <td>0</td>\n",
       "      <td>0</td>\n",
       "    </tr>\n",
       "    <tr>\n",
       "      <th>predicted_3</th>\n",
       "      <td>0</td>\n",
       "      <td>0</td>\n",
       "      <td>0</td>\n",
       "      <td>0</td>\n",
       "      <td>0</td>\n",
       "    </tr>\n",
       "    <tr>\n",
       "      <th>predicted_4</th>\n",
       "      <td>0</td>\n",
       "      <td>1199</td>\n",
       "      <td>1231</td>\n",
       "      <td>1152</td>\n",
       "      <td>1179</td>\n",
       "    </tr>\n",
       "  </tbody>\n",
       "</table>\n",
       "</div>"
      ],
      "text/plain": [
       "             actual_0  actual_1  actual_2  actual_3  actual_4\n",
       "predicted_0      1139         0         0         0         0\n",
       "predicted_1         0         0         0         0         0\n",
       "predicted_2         0         0         6         0         0\n",
       "predicted_3         0         0         0         0         0\n",
       "predicted_4         0      1199      1231      1152      1179"
      ]
     },
     "execution_count": 45,
     "metadata": {},
     "output_type": "execute_result"
    }
   ],
   "source": [
    "get_confusion_matrix(y_pred, y_test)"
   ]
  },
  {
   "cell_type": "code",
   "execution_count": 46,
   "metadata": {},
   "outputs": [
    {
     "data": {
      "text/plain": [
       "0.39248222146969186"
      ]
     },
     "execution_count": 46,
     "metadata": {},
     "output_type": "execute_result"
    }
   ],
   "source": [
    "y_pred = pickled_clf2.predict(X_test)\n",
    "pickled_clf2.score(X_test, y_test)"
   ]
  },
  {
   "cell_type": "code",
   "execution_count": 47,
   "metadata": {},
   "outputs": [
    {
     "data": {
      "text/html": [
       "<div>\n",
       "<style scoped>\n",
       "    .dataframe tbody tr th:only-of-type {\n",
       "        vertical-align: middle;\n",
       "    }\n",
       "\n",
       "    .dataframe tbody tr th {\n",
       "        vertical-align: top;\n",
       "    }\n",
       "\n",
       "    .dataframe thead th {\n",
       "        text-align: right;\n",
       "    }\n",
       "</style>\n",
       "<table border=\"1\" class=\"dataframe\">\n",
       "  <thead>\n",
       "    <tr style=\"text-align: right;\">\n",
       "      <th></th>\n",
       "      <th>actual_0</th>\n",
       "      <th>actual_1</th>\n",
       "      <th>actual_2</th>\n",
       "      <th>actual_3</th>\n",
       "      <th>actual_4</th>\n",
       "    </tr>\n",
       "  </thead>\n",
       "  <tbody>\n",
       "    <tr>\n",
       "      <th>predicted_0</th>\n",
       "      <td>1139</td>\n",
       "      <td>0</td>\n",
       "      <td>0</td>\n",
       "      <td>0</td>\n",
       "      <td>0</td>\n",
       "    </tr>\n",
       "    <tr>\n",
       "      <th>predicted_1</th>\n",
       "      <td>0</td>\n",
       "      <td>0</td>\n",
       "      <td>0</td>\n",
       "      <td>0</td>\n",
       "      <td>0</td>\n",
       "    </tr>\n",
       "    <tr>\n",
       "      <th>predicted_2</th>\n",
       "      <td>0</td>\n",
       "      <td>0</td>\n",
       "      <td>0</td>\n",
       "      <td>0</td>\n",
       "      <td>0</td>\n",
       "    </tr>\n",
       "    <tr>\n",
       "      <th>predicted_3</th>\n",
       "      <td>0</td>\n",
       "      <td>0</td>\n",
       "      <td>0</td>\n",
       "      <td>0</td>\n",
       "      <td>0</td>\n",
       "    </tr>\n",
       "    <tr>\n",
       "      <th>predicted_4</th>\n",
       "      <td>0</td>\n",
       "      <td>1199</td>\n",
       "      <td>1237</td>\n",
       "      <td>1152</td>\n",
       "      <td>1179</td>\n",
       "    </tr>\n",
       "  </tbody>\n",
       "</table>\n",
       "</div>"
      ],
      "text/plain": [
       "             actual_0  actual_1  actual_2  actual_3  actual_4\n",
       "predicted_0      1139         0         0         0         0\n",
       "predicted_1         0         0         0         0         0\n",
       "predicted_2         0         0         0         0         0\n",
       "predicted_3         0         0         0         0         0\n",
       "predicted_4         0      1199      1237      1152      1179"
      ]
     },
     "execution_count": 47,
     "metadata": {},
     "output_type": "execute_result"
    }
   ],
   "source": [
    "get_confusion_matrix(y_pred, y_test)"
   ]
  },
  {
   "cell_type": "code",
   "execution_count": 48,
   "metadata": {},
   "outputs": [
    {
     "data": {
      "text/plain": [
       "0.39248222146969186"
      ]
     },
     "execution_count": 48,
     "metadata": {},
     "output_type": "execute_result"
    }
   ],
   "source": [
    "y_pred = pickled_clf3.predict(X_test)\n",
    "pickled_clf3.score(X_test, y_test)"
   ]
  },
  {
   "cell_type": "code",
   "execution_count": 49,
   "metadata": {},
   "outputs": [
    {
     "data": {
      "text/html": [
       "<div>\n",
       "<style scoped>\n",
       "    .dataframe tbody tr th:only-of-type {\n",
       "        vertical-align: middle;\n",
       "    }\n",
       "\n",
       "    .dataframe tbody tr th {\n",
       "        vertical-align: top;\n",
       "    }\n",
       "\n",
       "    .dataframe thead th {\n",
       "        text-align: right;\n",
       "    }\n",
       "</style>\n",
       "<table border=\"1\" class=\"dataframe\">\n",
       "  <thead>\n",
       "    <tr style=\"text-align: right;\">\n",
       "      <th></th>\n",
       "      <th>actual_0</th>\n",
       "      <th>actual_1</th>\n",
       "      <th>actual_2</th>\n",
       "      <th>actual_3</th>\n",
       "      <th>actual_4</th>\n",
       "    </tr>\n",
       "  </thead>\n",
       "  <tbody>\n",
       "    <tr>\n",
       "      <th>predicted_0</th>\n",
       "      <td>1139</td>\n",
       "      <td>14</td>\n",
       "      <td>0</td>\n",
       "      <td>0</td>\n",
       "      <td>0</td>\n",
       "    </tr>\n",
       "    <tr>\n",
       "      <th>predicted_1</th>\n",
       "      <td>0</td>\n",
       "      <td>0</td>\n",
       "      <td>0</td>\n",
       "      <td>0</td>\n",
       "      <td>0</td>\n",
       "    </tr>\n",
       "    <tr>\n",
       "      <th>predicted_2</th>\n",
       "      <td>0</td>\n",
       "      <td>0</td>\n",
       "      <td>0</td>\n",
       "      <td>0</td>\n",
       "      <td>0</td>\n",
       "    </tr>\n",
       "    <tr>\n",
       "      <th>predicted_3</th>\n",
       "      <td>0</td>\n",
       "      <td>0</td>\n",
       "      <td>0</td>\n",
       "      <td>0</td>\n",
       "      <td>0</td>\n",
       "    </tr>\n",
       "    <tr>\n",
       "      <th>predicted_4</th>\n",
       "      <td>0</td>\n",
       "      <td>1185</td>\n",
       "      <td>1237</td>\n",
       "      <td>1152</td>\n",
       "      <td>1179</td>\n",
       "    </tr>\n",
       "  </tbody>\n",
       "</table>\n",
       "</div>"
      ],
      "text/plain": [
       "             actual_0  actual_1  actual_2  actual_3  actual_4\n",
       "predicted_0      1139        14         0         0         0\n",
       "predicted_1         0         0         0         0         0\n",
       "predicted_2         0         0         0         0         0\n",
       "predicted_3         0         0         0         0         0\n",
       "predicted_4         0      1185      1237      1152      1179"
      ]
     },
     "execution_count": 49,
     "metadata": {},
     "output_type": "execute_result"
    }
   ],
   "source": [
    "get_confusion_matrix(y_pred, y_test)"
   ]
  },
  {
   "cell_type": "code",
   "execution_count": 50,
   "metadata": {},
   "outputs": [],
   "source": [
    "scaler = MinMaxScaler()\n",
    "scaler.fit(X_train)\n",
    "X_train = scaler.transform(X_train)\n",
    "X_test = scaler.transform(X_test)"
   ]
  },
  {
   "cell_type": "code",
   "execution_count": 51,
   "metadata": {},
   "outputs": [
    {
     "data": {
      "text/plain": [
       "0.43007111412123267"
      ]
     },
     "execution_count": 51,
     "metadata": {},
     "output_type": "execute_result"
    }
   ],
   "source": [
    "y_pred = pickled_clf4.predict(X_test)\n",
    "pickled_clf4.score(X_test, y_test)"
   ]
  },
  {
   "cell_type": "code",
   "execution_count": 52,
   "metadata": {},
   "outputs": [
    {
     "data": {
      "text/html": [
       "<div>\n",
       "<style scoped>\n",
       "    .dataframe tbody tr th:only-of-type {\n",
       "        vertical-align: middle;\n",
       "    }\n",
       "\n",
       "    .dataframe tbody tr th {\n",
       "        vertical-align: top;\n",
       "    }\n",
       "\n",
       "    .dataframe thead th {\n",
       "        text-align: right;\n",
       "    }\n",
       "</style>\n",
       "<table border=\"1\" class=\"dataframe\">\n",
       "  <thead>\n",
       "    <tr style=\"text-align: right;\">\n",
       "      <th></th>\n",
       "      <th>actual_0</th>\n",
       "      <th>actual_1</th>\n",
       "      <th>actual_2</th>\n",
       "      <th>actual_3</th>\n",
       "      <th>actual_4</th>\n",
       "    </tr>\n",
       "  </thead>\n",
       "  <tbody>\n",
       "    <tr>\n",
       "      <th>predicted_0</th>\n",
       "      <td>1139</td>\n",
       "      <td>32</td>\n",
       "      <td>18</td>\n",
       "      <td>0</td>\n",
       "      <td>0</td>\n",
       "    </tr>\n",
       "    <tr>\n",
       "      <th>predicted_1</th>\n",
       "      <td>0</td>\n",
       "      <td>110</td>\n",
       "      <td>182</td>\n",
       "      <td>36</td>\n",
       "      <td>17</td>\n",
       "    </tr>\n",
       "    <tr>\n",
       "      <th>predicted_2</th>\n",
       "      <td>0</td>\n",
       "      <td>575</td>\n",
       "      <td>468</td>\n",
       "      <td>291</td>\n",
       "      <td>299</td>\n",
       "    </tr>\n",
       "    <tr>\n",
       "      <th>predicted_3</th>\n",
       "      <td>0</td>\n",
       "      <td>394</td>\n",
       "      <td>538</td>\n",
       "      <td>809</td>\n",
       "      <td>849</td>\n",
       "    </tr>\n",
       "    <tr>\n",
       "      <th>predicted_4</th>\n",
       "      <td>0</td>\n",
       "      <td>88</td>\n",
       "      <td>31</td>\n",
       "      <td>16</td>\n",
       "      <td>14</td>\n",
       "    </tr>\n",
       "  </tbody>\n",
       "</table>\n",
       "</div>"
      ],
      "text/plain": [
       "             actual_0  actual_1  actual_2  actual_3  actual_4\n",
       "predicted_0      1139        32        18         0         0\n",
       "predicted_1         0       110       182        36        17\n",
       "predicted_2         0       575       468       291       299\n",
       "predicted_3         0       394       538       809       849\n",
       "predicted_4         0        88        31        16        14"
      ]
     },
     "execution_count": 52,
     "metadata": {},
     "output_type": "execute_result"
    }
   ],
   "source": [
    "get_confusion_matrix(y_pred, y_test)"
   ]
  },
  {
   "cell_type": "markdown",
   "metadata": {},
   "source": [
    "# Gyro + Stabilizer"
   ]
  },
  {
   "cell_type": "code",
   "execution_count": 53,
   "metadata": {},
   "outputs": [],
   "source": [
    "pickled_clf = joblib.load(FOLDER_PATH + 'random_forest_gyro_stb.pkl')\n",
    "pickled_clf2 = joblib.load(FOLDER_PATH2 + 'et_gyro_stb.pkl')\n",
    "pickled_clf3 = joblib.load(FOLDER_PATH3 + 'adaBoost_gyro_stb.pkl')\n",
    "pickled_clf4 = joblib.load(FOLDER_PATH4 + 'svm_gyro_stb.pkl')"
   ]
  },
  {
   "cell_type": "code",
   "execution_count": 54,
   "metadata": {},
   "outputs": [
    {
     "data": {
      "text/html": [
       "<div>\n",
       "<style scoped>\n",
       "    .dataframe tbody tr th:only-of-type {\n",
       "        vertical-align: middle;\n",
       "    }\n",
       "\n",
       "    .dataframe tbody tr th {\n",
       "        vertical-align: top;\n",
       "    }\n",
       "\n",
       "    .dataframe thead th {\n",
       "        text-align: right;\n",
       "    }\n",
       "</style>\n",
       "<table border=\"1\" class=\"dataframe\">\n",
       "  <thead>\n",
       "    <tr style=\"text-align: right;\">\n",
       "      <th></th>\n",
       "      <th>mu_x_gyro</th>\n",
       "      <th>mu_y_gyro</th>\n",
       "      <th>mu_z_gyro</th>\n",
       "      <th>std_x_gyro</th>\n",
       "      <th>std_y_gyro</th>\n",
       "      <th>std_z_gyro</th>\n",
       "      <th>avg_resultant_acc_gyro</th>\n",
       "      <th>bins_0_gyro</th>\n",
       "      <th>bins_1_gyro</th>\n",
       "      <th>bins_2_gyro</th>\n",
       "      <th>...</th>\n",
       "      <th>bins_23_stabilizer</th>\n",
       "      <th>bins_24_stabilizer</th>\n",
       "      <th>bins_25_stabilizer</th>\n",
       "      <th>bins_26_stabilizer</th>\n",
       "      <th>bins_27_stabilizer</th>\n",
       "      <th>bins_28_stabilizer</th>\n",
       "      <th>bins_29_stabilizer</th>\n",
       "      <th>mean_average_difference_x_stabilizer</th>\n",
       "      <th>mean_average_difference_y_stabilizer</th>\n",
       "      <th>mean_average_difference_z_stabilizer</th>\n",
       "    </tr>\n",
       "  </thead>\n",
       "  <tbody>\n",
       "    <tr>\n",
       "      <th>0</th>\n",
       "      <td>-0.009106</td>\n",
       "      <td>-0.578250</td>\n",
       "      <td>-0.486069</td>\n",
       "      <td>3.636300</td>\n",
       "      <td>3.134631</td>\n",
       "      <td>1.004733</td>\n",
       "      <td>4.464595</td>\n",
       "      <td>4.0</td>\n",
       "      <td>4.0</td>\n",
       "      <td>9.0</td>\n",
       "      <td>...</td>\n",
       "      <td>18.0</td>\n",
       "      <td>24.0</td>\n",
       "      <td>19.0</td>\n",
       "      <td>2.0</td>\n",
       "      <td>3.0</td>\n",
       "      <td>1.0</td>\n",
       "      <td>2.0</td>\n",
       "      <td>0.186676</td>\n",
       "      <td>0.176062</td>\n",
       "      <td>0.058991</td>\n",
       "    </tr>\n",
       "    <tr>\n",
       "      <th>1</th>\n",
       "      <td>-0.004169</td>\n",
       "      <td>-0.596648</td>\n",
       "      <td>-0.490217</td>\n",
       "      <td>3.636975</td>\n",
       "      <td>3.149316</td>\n",
       "      <td>1.014886</td>\n",
       "      <td>4.481096</td>\n",
       "      <td>4.0</td>\n",
       "      <td>4.0</td>\n",
       "      <td>9.0</td>\n",
       "      <td>...</td>\n",
       "      <td>16.0</td>\n",
       "      <td>17.0</td>\n",
       "      <td>28.0</td>\n",
       "      <td>9.0</td>\n",
       "      <td>2.0</td>\n",
       "      <td>2.0</td>\n",
       "      <td>2.0</td>\n",
       "      <td>0.184935</td>\n",
       "      <td>0.174752</td>\n",
       "      <td>0.058535</td>\n",
       "    </tr>\n",
       "    <tr>\n",
       "      <th>2</th>\n",
       "      <td>0.002094</td>\n",
       "      <td>-0.615925</td>\n",
       "      <td>-0.497787</td>\n",
       "      <td>3.635308</td>\n",
       "      <td>3.155434</td>\n",
       "      <td>1.033801</td>\n",
       "      <td>4.494133</td>\n",
       "      <td>4.0</td>\n",
       "      <td>4.0</td>\n",
       "      <td>9.0</td>\n",
       "      <td>...</td>\n",
       "      <td>20.0</td>\n",
       "      <td>17.0</td>\n",
       "      <td>17.0</td>\n",
       "      <td>30.0</td>\n",
       "      <td>2.0</td>\n",
       "      <td>3.0</td>\n",
       "      <td>2.0</td>\n",
       "      <td>0.182609</td>\n",
       "      <td>0.173541</td>\n",
       "      <td>0.058626</td>\n",
       "    </tr>\n",
       "    <tr>\n",
       "      <th>3</th>\n",
       "      <td>0.009925</td>\n",
       "      <td>-0.641325</td>\n",
       "      <td>-0.503862</td>\n",
       "      <td>3.631776</td>\n",
       "      <td>3.149600</td>\n",
       "      <td>1.047752</td>\n",
       "      <td>4.494840</td>\n",
       "      <td>4.0</td>\n",
       "      <td>4.0</td>\n",
       "      <td>9.0</td>\n",
       "      <td>...</td>\n",
       "      <td>6.0</td>\n",
       "      <td>21.0</td>\n",
       "      <td>18.0</td>\n",
       "      <td>22.0</td>\n",
       "      <td>23.0</td>\n",
       "      <td>2.0</td>\n",
       "      <td>3.0</td>\n",
       "      <td>0.178716</td>\n",
       "      <td>0.170991</td>\n",
       "      <td>0.059271</td>\n",
       "    </tr>\n",
       "    <tr>\n",
       "      <th>4</th>\n",
       "      <td>0.027315</td>\n",
       "      <td>-0.684527</td>\n",
       "      <td>-0.517753</td>\n",
       "      <td>3.622390</td>\n",
       "      <td>3.117040</td>\n",
       "      <td>1.080746</td>\n",
       "      <td>4.480896</td>\n",
       "      <td>4.0</td>\n",
       "      <td>4.0</td>\n",
       "      <td>9.0</td>\n",
       "      <td>...</td>\n",
       "      <td>2.0</td>\n",
       "      <td>19.0</td>\n",
       "      <td>16.0</td>\n",
       "      <td>18.0</td>\n",
       "      <td>31.0</td>\n",
       "      <td>6.0</td>\n",
       "      <td>3.0</td>\n",
       "      <td>0.173946</td>\n",
       "      <td>0.169402</td>\n",
       "      <td>0.060504</td>\n",
       "    </tr>\n",
       "  </tbody>\n",
       "</table>\n",
       "<p>5 rows × 80 columns</p>\n",
       "</div>"
      ],
      "text/plain": [
       "   mu_x_gyro  mu_y_gyro  mu_z_gyro  std_x_gyro  std_y_gyro  std_z_gyro  \\\n",
       "0  -0.009106  -0.578250  -0.486069    3.636300    3.134631    1.004733   \n",
       "1  -0.004169  -0.596648  -0.490217    3.636975    3.149316    1.014886   \n",
       "2   0.002094  -0.615925  -0.497787    3.635308    3.155434    1.033801   \n",
       "3   0.009925  -0.641325  -0.503862    3.631776    3.149600    1.047752   \n",
       "4   0.027315  -0.684527  -0.517753    3.622390    3.117040    1.080746   \n",
       "\n",
       "   avg_resultant_acc_gyro  bins_0_gyro  bins_1_gyro  bins_2_gyro  \\\n",
       "0                4.464595          4.0          4.0          9.0   \n",
       "1                4.481096          4.0          4.0          9.0   \n",
       "2                4.494133          4.0          4.0          9.0   \n",
       "3                4.494840          4.0          4.0          9.0   \n",
       "4                4.480896          4.0          4.0          9.0   \n",
       "\n",
       "                   ...                   bins_23_stabilizer  \\\n",
       "0                  ...                                 18.0   \n",
       "1                  ...                                 16.0   \n",
       "2                  ...                                 20.0   \n",
       "3                  ...                                  6.0   \n",
       "4                  ...                                  2.0   \n",
       "\n",
       "   bins_24_stabilizer  bins_25_stabilizer  bins_26_stabilizer  \\\n",
       "0                24.0                19.0                 2.0   \n",
       "1                17.0                28.0                 9.0   \n",
       "2                17.0                17.0                30.0   \n",
       "3                21.0                18.0                22.0   \n",
       "4                19.0                16.0                18.0   \n",
       "\n",
       "   bins_27_stabilizer  bins_28_stabilizer  bins_29_stabilizer  \\\n",
       "0                 3.0                 1.0                 2.0   \n",
       "1                 2.0                 2.0                 2.0   \n",
       "2                 2.0                 3.0                 2.0   \n",
       "3                23.0                 2.0                 3.0   \n",
       "4                31.0                 6.0                 3.0   \n",
       "\n",
       "   mean_average_difference_x_stabilizer  mean_average_difference_y_stabilizer  \\\n",
       "0                              0.186676                              0.176062   \n",
       "1                              0.184935                              0.174752   \n",
       "2                              0.182609                              0.173541   \n",
       "3                              0.178716                              0.170991   \n",
       "4                              0.173946                              0.169402   \n",
       "\n",
       "   mean_average_difference_z_stabilizer  \n",
       "0                              0.058991  \n",
       "1                              0.058535  \n",
       "2                              0.058626  \n",
       "3                              0.059271  \n",
       "4                              0.060504  \n",
       "\n",
       "[5 rows x 80 columns]"
      ]
     },
     "execution_count": 54,
     "metadata": {},
     "output_type": "execute_result"
    }
   ],
   "source": [
    "X_gyro_sta = pd.concat([X_gyro, X_sta], axis=1)\n",
    "y_gyro_sta = y_gyro\n",
    "X_gyro_sta.head()"
   ]
  },
  {
   "cell_type": "code",
   "execution_count": 55,
   "metadata": {},
   "outputs": [],
   "source": [
    "X_train, X_test, y_train, y_test = train_test_split(X_gyro_sta, y_gyro_sta, test_size=0.2, random_state=42)"
   ]
  },
  {
   "cell_type": "code",
   "execution_count": 56,
   "metadata": {},
   "outputs": [
    {
     "data": {
      "text/plain": [
       "0.47883508296647476"
      ]
     },
     "execution_count": 56,
     "metadata": {},
     "output_type": "execute_result"
    }
   ],
   "source": [
    "y_pred = pickled_clf.predict(X_test)\n",
    "pickled_clf.score(X_test, y_test)"
   ]
  },
  {
   "cell_type": "code",
   "execution_count": 57,
   "metadata": {},
   "outputs": [
    {
     "data": {
      "text/html": [
       "<div>\n",
       "<style scoped>\n",
       "    .dataframe tbody tr th:only-of-type {\n",
       "        vertical-align: middle;\n",
       "    }\n",
       "\n",
       "    .dataframe tbody tr th {\n",
       "        vertical-align: top;\n",
       "    }\n",
       "\n",
       "    .dataframe thead th {\n",
       "        text-align: right;\n",
       "    }\n",
       "</style>\n",
       "<table border=\"1\" class=\"dataframe\">\n",
       "  <thead>\n",
       "    <tr style=\"text-align: right;\">\n",
       "      <th></th>\n",
       "      <th>actual_0</th>\n",
       "      <th>actual_1</th>\n",
       "      <th>actual_2</th>\n",
       "      <th>actual_3</th>\n",
       "      <th>actual_4</th>\n",
       "    </tr>\n",
       "  </thead>\n",
       "  <tbody>\n",
       "    <tr>\n",
       "      <th>predicted_0</th>\n",
       "      <td>1139</td>\n",
       "      <td>16</td>\n",
       "      <td>0</td>\n",
       "      <td>0</td>\n",
       "      <td>0</td>\n",
       "    </tr>\n",
       "    <tr>\n",
       "      <th>predicted_1</th>\n",
       "      <td>0</td>\n",
       "      <td>736</td>\n",
       "      <td>508</td>\n",
       "      <td>229</td>\n",
       "      <td>229</td>\n",
       "    </tr>\n",
       "    <tr>\n",
       "      <th>predicted_2</th>\n",
       "      <td>0</td>\n",
       "      <td>437</td>\n",
       "      <td>575</td>\n",
       "      <td>498</td>\n",
       "      <td>509</td>\n",
       "    </tr>\n",
       "    <tr>\n",
       "      <th>predicted_3</th>\n",
       "      <td>0</td>\n",
       "      <td>10</td>\n",
       "      <td>79</td>\n",
       "      <td>211</td>\n",
       "      <td>274</td>\n",
       "    </tr>\n",
       "    <tr>\n",
       "      <th>predicted_4</th>\n",
       "      <td>0</td>\n",
       "      <td>0</td>\n",
       "      <td>75</td>\n",
       "      <td>214</td>\n",
       "      <td>167</td>\n",
       "    </tr>\n",
       "  </tbody>\n",
       "</table>\n",
       "</div>"
      ],
      "text/plain": [
       "             actual_0  actual_1  actual_2  actual_3  actual_4\n",
       "predicted_0      1139        16         0         0         0\n",
       "predicted_1         0       736       508       229       229\n",
       "predicted_2         0       437       575       498       509\n",
       "predicted_3         0        10        79       211       274\n",
       "predicted_4         0         0        75       214       167"
      ]
     },
     "execution_count": 57,
     "metadata": {},
     "output_type": "execute_result"
    }
   ],
   "source": [
    "get_confusion_matrix(y_pred, y_test)"
   ]
  },
  {
   "cell_type": "code",
   "execution_count": 58,
   "metadata": {},
   "outputs": [
    {
     "data": {
      "text/plain": [
       "0.4818828310193024"
      ]
     },
     "execution_count": 58,
     "metadata": {},
     "output_type": "execute_result"
    }
   ],
   "source": [
    "y_pred = pickled_clf2.predict(X_test)\n",
    "pickled_clf2.score(X_test, y_test)"
   ]
  },
  {
   "cell_type": "code",
   "execution_count": 59,
   "metadata": {},
   "outputs": [
    {
     "data": {
      "text/html": [
       "<div>\n",
       "<style scoped>\n",
       "    .dataframe tbody tr th:only-of-type {\n",
       "        vertical-align: middle;\n",
       "    }\n",
       "\n",
       "    .dataframe tbody tr th {\n",
       "        vertical-align: top;\n",
       "    }\n",
       "\n",
       "    .dataframe thead th {\n",
       "        text-align: right;\n",
       "    }\n",
       "</style>\n",
       "<table border=\"1\" class=\"dataframe\">\n",
       "  <thead>\n",
       "    <tr style=\"text-align: right;\">\n",
       "      <th></th>\n",
       "      <th>actual_0</th>\n",
       "      <th>actual_1</th>\n",
       "      <th>actual_2</th>\n",
       "      <th>actual_3</th>\n",
       "      <th>actual_4</th>\n",
       "    </tr>\n",
       "  </thead>\n",
       "  <tbody>\n",
       "    <tr>\n",
       "      <th>predicted_0</th>\n",
       "      <td>1139</td>\n",
       "      <td>15</td>\n",
       "      <td>0</td>\n",
       "      <td>0</td>\n",
       "      <td>0</td>\n",
       "    </tr>\n",
       "    <tr>\n",
       "      <th>predicted_1</th>\n",
       "      <td>0</td>\n",
       "      <td>767</td>\n",
       "      <td>499</td>\n",
       "      <td>204</td>\n",
       "      <td>231</td>\n",
       "    </tr>\n",
       "    <tr>\n",
       "      <th>predicted_2</th>\n",
       "      <td>0</td>\n",
       "      <td>397</td>\n",
       "      <td>560</td>\n",
       "      <td>529</td>\n",
       "      <td>482</td>\n",
       "    </tr>\n",
       "    <tr>\n",
       "      <th>predicted_3</th>\n",
       "      <td>0</td>\n",
       "      <td>20</td>\n",
       "      <td>99</td>\n",
       "      <td>204</td>\n",
       "      <td>290</td>\n",
       "    </tr>\n",
       "    <tr>\n",
       "      <th>predicted_4</th>\n",
       "      <td>0</td>\n",
       "      <td>0</td>\n",
       "      <td>79</td>\n",
       "      <td>215</td>\n",
       "      <td>176</td>\n",
       "    </tr>\n",
       "  </tbody>\n",
       "</table>\n",
       "</div>"
      ],
      "text/plain": [
       "             actual_0  actual_1  actual_2  actual_3  actual_4\n",
       "predicted_0      1139        15         0         0         0\n",
       "predicted_1         0       767       499       204       231\n",
       "predicted_2         0       397       560       529       482\n",
       "predicted_3         0        20        99       204       290\n",
       "predicted_4         0         0        79       215       176"
      ]
     },
     "execution_count": 59,
     "metadata": {},
     "output_type": "execute_result"
    }
   ],
   "source": [
    "get_confusion_matrix(y_pred, y_test)"
   ]
  },
  {
   "cell_type": "code",
   "execution_count": 60,
   "metadata": {},
   "outputs": [
    {
     "data": {
      "text/plain": [
       "0.4852692177446664"
      ]
     },
     "execution_count": 60,
     "metadata": {},
     "output_type": "execute_result"
    }
   ],
   "source": [
    "y_pred = pickled_clf3.predict(X_test)\n",
    "pickled_clf3.score(X_test, y_test)"
   ]
  },
  {
   "cell_type": "code",
   "execution_count": 61,
   "metadata": {},
   "outputs": [
    {
     "data": {
      "text/html": [
       "<div>\n",
       "<style scoped>\n",
       "    .dataframe tbody tr th:only-of-type {\n",
       "        vertical-align: middle;\n",
       "    }\n",
       "\n",
       "    .dataframe tbody tr th {\n",
       "        vertical-align: top;\n",
       "    }\n",
       "\n",
       "    .dataframe thead th {\n",
       "        text-align: right;\n",
       "    }\n",
       "</style>\n",
       "<table border=\"1\" class=\"dataframe\">\n",
       "  <thead>\n",
       "    <tr style=\"text-align: right;\">\n",
       "      <th></th>\n",
       "      <th>actual_0</th>\n",
       "      <th>actual_1</th>\n",
       "      <th>actual_2</th>\n",
       "      <th>actual_3</th>\n",
       "      <th>actual_4</th>\n",
       "    </tr>\n",
       "  </thead>\n",
       "  <tbody>\n",
       "    <tr>\n",
       "      <th>predicted_0</th>\n",
       "      <td>1139</td>\n",
       "      <td>14</td>\n",
       "      <td>0</td>\n",
       "      <td>0</td>\n",
       "      <td>0</td>\n",
       "    </tr>\n",
       "    <tr>\n",
       "      <th>predicted_1</th>\n",
       "      <td>0</td>\n",
       "      <td>735</td>\n",
       "      <td>501</td>\n",
       "      <td>195</td>\n",
       "      <td>168</td>\n",
       "    </tr>\n",
       "    <tr>\n",
       "      <th>predicted_2</th>\n",
       "      <td>0</td>\n",
       "      <td>346</td>\n",
       "      <td>433</td>\n",
       "      <td>321</td>\n",
       "      <td>333</td>\n",
       "    </tr>\n",
       "    <tr>\n",
       "      <th>predicted_3</th>\n",
       "      <td>0</td>\n",
       "      <td>41</td>\n",
       "      <td>195</td>\n",
       "      <td>333</td>\n",
       "      <td>452</td>\n",
       "    </tr>\n",
       "    <tr>\n",
       "      <th>predicted_4</th>\n",
       "      <td>0</td>\n",
       "      <td>63</td>\n",
       "      <td>108</td>\n",
       "      <td>303</td>\n",
       "      <td>226</td>\n",
       "    </tr>\n",
       "  </tbody>\n",
       "</table>\n",
       "</div>"
      ],
      "text/plain": [
       "             actual_0  actual_1  actual_2  actual_3  actual_4\n",
       "predicted_0      1139        14         0         0         0\n",
       "predicted_1         0       735       501       195       168\n",
       "predicted_2         0       346       433       321       333\n",
       "predicted_3         0        41       195       333       452\n",
       "predicted_4         0        63       108       303       226"
      ]
     },
     "execution_count": 61,
     "metadata": {},
     "output_type": "execute_result"
    }
   ],
   "source": [
    "get_confusion_matrix(y_pred, y_test)"
   ]
  },
  {
   "cell_type": "code",
   "execution_count": 62,
   "metadata": {},
   "outputs": [],
   "source": [
    "scaler = MinMaxScaler()\n",
    "scaler.fit(X_train)\n",
    "X_train = scaler.transform(X_train)\n",
    "X_test = scaler.transform(X_test)"
   ]
  },
  {
   "cell_type": "code",
   "execution_count": 63,
   "metadata": {},
   "outputs": [
    {
     "data": {
      "text/plain": [
       "0.48459194039959363"
      ]
     },
     "execution_count": 63,
     "metadata": {},
     "output_type": "execute_result"
    }
   ],
   "source": [
    "y_pred = pickled_clf4.predict(X_test)\n",
    "pickled_clf4.score(X_test, y_test)"
   ]
  },
  {
   "cell_type": "code",
   "execution_count": 64,
   "metadata": {},
   "outputs": [
    {
     "data": {
      "text/html": [
       "<div>\n",
       "<style scoped>\n",
       "    .dataframe tbody tr th:only-of-type {\n",
       "        vertical-align: middle;\n",
       "    }\n",
       "\n",
       "    .dataframe tbody tr th {\n",
       "        vertical-align: top;\n",
       "    }\n",
       "\n",
       "    .dataframe thead th {\n",
       "        text-align: right;\n",
       "    }\n",
       "</style>\n",
       "<table border=\"1\" class=\"dataframe\">\n",
       "  <thead>\n",
       "    <tr style=\"text-align: right;\">\n",
       "      <th></th>\n",
       "      <th>actual_0</th>\n",
       "      <th>actual_1</th>\n",
       "      <th>actual_2</th>\n",
       "      <th>actual_3</th>\n",
       "      <th>actual_4</th>\n",
       "    </tr>\n",
       "  </thead>\n",
       "  <tbody>\n",
       "    <tr>\n",
       "      <th>predicted_0</th>\n",
       "      <td>1139</td>\n",
       "      <td>14</td>\n",
       "      <td>7</td>\n",
       "      <td>0</td>\n",
       "      <td>0</td>\n",
       "    </tr>\n",
       "    <tr>\n",
       "      <th>predicted_1</th>\n",
       "      <td>0</td>\n",
       "      <td>539</td>\n",
       "      <td>284</td>\n",
       "      <td>181</td>\n",
       "      <td>150</td>\n",
       "    </tr>\n",
       "    <tr>\n",
       "      <th>predicted_2</th>\n",
       "      <td>0</td>\n",
       "      <td>505</td>\n",
       "      <td>534</td>\n",
       "      <td>304</td>\n",
       "      <td>407</td>\n",
       "    </tr>\n",
       "    <tr>\n",
       "      <th>predicted_3</th>\n",
       "      <td>0</td>\n",
       "      <td>96</td>\n",
       "      <td>261</td>\n",
       "      <td>297</td>\n",
       "      <td>269</td>\n",
       "    </tr>\n",
       "    <tr>\n",
       "      <th>predicted_4</th>\n",
       "      <td>0</td>\n",
       "      <td>45</td>\n",
       "      <td>151</td>\n",
       "      <td>370</td>\n",
       "      <td>353</td>\n",
       "    </tr>\n",
       "  </tbody>\n",
       "</table>\n",
       "</div>"
      ],
      "text/plain": [
       "             actual_0  actual_1  actual_2  actual_3  actual_4\n",
       "predicted_0      1139        14         7         0         0\n",
       "predicted_1         0       539       284       181       150\n",
       "predicted_2         0       505       534       304       407\n",
       "predicted_3         0        96       261       297       269\n",
       "predicted_4         0        45       151       370       353"
      ]
     },
     "execution_count": 64,
     "metadata": {},
     "output_type": "execute_result"
    }
   ],
   "source": [
    "get_confusion_matrix(y_pred, y_test)"
   ]
  },
  {
   "cell_type": "markdown",
   "metadata": {},
   "source": [
    "# Accelerometer + Stabilizer"
   ]
  },
  {
   "cell_type": "code",
   "execution_count": 65,
   "metadata": {},
   "outputs": [],
   "source": [
    "pickled_clf = joblib.load(FOLDER_PATH + 'random_forest_acc_stb.pkl')\n",
    "pickled_clf2 = joblib.load(FOLDER_PATH2 + 'et_acc_stb.pkl')\n",
    "pickled_clf3 = joblib.load(FOLDER_PATH3 + 'adaBoost_acc_stb.pkl')\n",
    "pickled_clf4 = joblib.load(FOLDER_PATH4 + 'svm_acc_stb.pkl')"
   ]
  },
  {
   "cell_type": "code",
   "execution_count": 66,
   "metadata": {},
   "outputs": [
    {
     "data": {
      "text/html": [
       "<div>\n",
       "<style scoped>\n",
       "    .dataframe tbody tr th:only-of-type {\n",
       "        vertical-align: middle;\n",
       "    }\n",
       "\n",
       "    .dataframe tbody tr th {\n",
       "        vertical-align: top;\n",
       "    }\n",
       "\n",
       "    .dataframe thead th {\n",
       "        text-align: right;\n",
       "    }\n",
       "</style>\n",
       "<table border=\"1\" class=\"dataframe\">\n",
       "  <thead>\n",
       "    <tr style=\"text-align: right;\">\n",
       "      <th></th>\n",
       "      <th>mu_x_acc</th>\n",
       "      <th>mu_y_acc</th>\n",
       "      <th>mu_z_acc</th>\n",
       "      <th>std_x_acc</th>\n",
       "      <th>std_y_acc</th>\n",
       "      <th>std_z_acc</th>\n",
       "      <th>avg_resultant_acc_acc</th>\n",
       "      <th>bins_0_acc</th>\n",
       "      <th>bins_1_acc</th>\n",
       "      <th>bins_2_acc</th>\n",
       "      <th>...</th>\n",
       "      <th>bins_23_stabilizer</th>\n",
       "      <th>bins_24_stabilizer</th>\n",
       "      <th>bins_25_stabilizer</th>\n",
       "      <th>bins_26_stabilizer</th>\n",
       "      <th>bins_27_stabilizer</th>\n",
       "      <th>bins_28_stabilizer</th>\n",
       "      <th>bins_29_stabilizer</th>\n",
       "      <th>mean_average_difference_x_stabilizer</th>\n",
       "      <th>mean_average_difference_y_stabilizer</th>\n",
       "      <th>mean_average_difference_z_stabilizer</th>\n",
       "    </tr>\n",
       "  </thead>\n",
       "  <tbody>\n",
       "    <tr>\n",
       "      <th>0</th>\n",
       "      <td>-0.002922</td>\n",
       "      <td>-0.040554</td>\n",
       "      <td>1.009290</td>\n",
       "      <td>0.070624</td>\n",
       "      <td>0.107846</td>\n",
       "      <td>0.055298</td>\n",
       "      <td>1.018349</td>\n",
       "      <td>4.0</td>\n",
       "      <td>6.0</td>\n",
       "      <td>12.0</td>\n",
       "      <td>...</td>\n",
       "      <td>18.0</td>\n",
       "      <td>24.0</td>\n",
       "      <td>19.0</td>\n",
       "      <td>2.0</td>\n",
       "      <td>3.0</td>\n",
       "      <td>1.0</td>\n",
       "      <td>2.0</td>\n",
       "      <td>0.186676</td>\n",
       "      <td>0.176062</td>\n",
       "      <td>0.058991</td>\n",
       "    </tr>\n",
       "    <tr>\n",
       "      <th>1</th>\n",
       "      <td>-0.002786</td>\n",
       "      <td>-0.040561</td>\n",
       "      <td>1.009423</td>\n",
       "      <td>0.070612</td>\n",
       "      <td>0.107845</td>\n",
       "      <td>0.055339</td>\n",
       "      <td>1.018481</td>\n",
       "      <td>4.0</td>\n",
       "      <td>6.0</td>\n",
       "      <td>12.0</td>\n",
       "      <td>...</td>\n",
       "      <td>16.0</td>\n",
       "      <td>17.0</td>\n",
       "      <td>28.0</td>\n",
       "      <td>9.0</td>\n",
       "      <td>2.0</td>\n",
       "      <td>2.0</td>\n",
       "      <td>2.0</td>\n",
       "      <td>0.184935</td>\n",
       "      <td>0.174752</td>\n",
       "      <td>0.058535</td>\n",
       "    </tr>\n",
       "    <tr>\n",
       "      <th>2</th>\n",
       "      <td>-0.002515</td>\n",
       "      <td>-0.039966</td>\n",
       "      <td>1.009872</td>\n",
       "      <td>0.070573</td>\n",
       "      <td>0.107744</td>\n",
       "      <td>0.055183</td>\n",
       "      <td>1.018890</td>\n",
       "      <td>4.0</td>\n",
       "      <td>6.0</td>\n",
       "      <td>12.0</td>\n",
       "      <td>...</td>\n",
       "      <td>20.0</td>\n",
       "      <td>17.0</td>\n",
       "      <td>17.0</td>\n",
       "      <td>30.0</td>\n",
       "      <td>2.0</td>\n",
       "      <td>3.0</td>\n",
       "      <td>2.0</td>\n",
       "      <td>0.182609</td>\n",
       "      <td>0.173541</td>\n",
       "      <td>0.058626</td>\n",
       "    </tr>\n",
       "    <tr>\n",
       "      <th>3</th>\n",
       "      <td>-0.003341</td>\n",
       "      <td>-0.038369</td>\n",
       "      <td>1.010874</td>\n",
       "      <td>0.070247</td>\n",
       "      <td>0.106375</td>\n",
       "      <td>0.054285</td>\n",
       "      <td>1.019645</td>\n",
       "      <td>4.0</td>\n",
       "      <td>6.0</td>\n",
       "      <td>12.0</td>\n",
       "      <td>...</td>\n",
       "      <td>6.0</td>\n",
       "      <td>21.0</td>\n",
       "      <td>18.0</td>\n",
       "      <td>22.0</td>\n",
       "      <td>23.0</td>\n",
       "      <td>2.0</td>\n",
       "      <td>3.0</td>\n",
       "      <td>0.178716</td>\n",
       "      <td>0.170991</td>\n",
       "      <td>0.059271</td>\n",
       "    </tr>\n",
       "    <tr>\n",
       "      <th>4</th>\n",
       "      <td>-0.005887</td>\n",
       "      <td>-0.036280</td>\n",
       "      <td>1.011656</td>\n",
       "      <td>0.068978</td>\n",
       "      <td>0.106224</td>\n",
       "      <td>0.054113</td>\n",
       "      <td>1.020247</td>\n",
       "      <td>4.0</td>\n",
       "      <td>7.0</td>\n",
       "      <td>12.0</td>\n",
       "      <td>...</td>\n",
       "      <td>2.0</td>\n",
       "      <td>19.0</td>\n",
       "      <td>16.0</td>\n",
       "      <td>18.0</td>\n",
       "      <td>31.0</td>\n",
       "      <td>6.0</td>\n",
       "      <td>3.0</td>\n",
       "      <td>0.173946</td>\n",
       "      <td>0.169402</td>\n",
       "      <td>0.060504</td>\n",
       "    </tr>\n",
       "  </tbody>\n",
       "</table>\n",
       "<p>5 rows × 80 columns</p>\n",
       "</div>"
      ],
      "text/plain": [
       "   mu_x_acc  mu_y_acc  mu_z_acc  std_x_acc  std_y_acc  std_z_acc  \\\n",
       "0 -0.002922 -0.040554  1.009290   0.070624   0.107846   0.055298   \n",
       "1 -0.002786 -0.040561  1.009423   0.070612   0.107845   0.055339   \n",
       "2 -0.002515 -0.039966  1.009872   0.070573   0.107744   0.055183   \n",
       "3 -0.003341 -0.038369  1.010874   0.070247   0.106375   0.054285   \n",
       "4 -0.005887 -0.036280  1.011656   0.068978   0.106224   0.054113   \n",
       "\n",
       "   avg_resultant_acc_acc  bins_0_acc  bins_1_acc  bins_2_acc  \\\n",
       "0               1.018349         4.0         6.0        12.0   \n",
       "1               1.018481         4.0         6.0        12.0   \n",
       "2               1.018890         4.0         6.0        12.0   \n",
       "3               1.019645         4.0         6.0        12.0   \n",
       "4               1.020247         4.0         7.0        12.0   \n",
       "\n",
       "                   ...                   bins_23_stabilizer  \\\n",
       "0                  ...                                 18.0   \n",
       "1                  ...                                 16.0   \n",
       "2                  ...                                 20.0   \n",
       "3                  ...                                  6.0   \n",
       "4                  ...                                  2.0   \n",
       "\n",
       "   bins_24_stabilizer  bins_25_stabilizer  bins_26_stabilizer  \\\n",
       "0                24.0                19.0                 2.0   \n",
       "1                17.0                28.0                 9.0   \n",
       "2                17.0                17.0                30.0   \n",
       "3                21.0                18.0                22.0   \n",
       "4                19.0                16.0                18.0   \n",
       "\n",
       "   bins_27_stabilizer  bins_28_stabilizer  bins_29_stabilizer  \\\n",
       "0                 3.0                 1.0                 2.0   \n",
       "1                 2.0                 2.0                 2.0   \n",
       "2                 2.0                 3.0                 2.0   \n",
       "3                23.0                 2.0                 3.0   \n",
       "4                31.0                 6.0                 3.0   \n",
       "\n",
       "   mean_average_difference_x_stabilizer  mean_average_difference_y_stabilizer  \\\n",
       "0                              0.186676                              0.176062   \n",
       "1                              0.184935                              0.174752   \n",
       "2                              0.182609                              0.173541   \n",
       "3                              0.178716                              0.170991   \n",
       "4                              0.173946                              0.169402   \n",
       "\n",
       "   mean_average_difference_z_stabilizer  \n",
       "0                              0.058991  \n",
       "1                              0.058535  \n",
       "2                              0.058626  \n",
       "3                              0.059271  \n",
       "4                              0.060504  \n",
       "\n",
       "[5 rows x 80 columns]"
      ]
     },
     "execution_count": 66,
     "metadata": {},
     "output_type": "execute_result"
    }
   ],
   "source": [
    "X_acc_sta = pd.concat([X_acc, X_sta], axis=1)\n",
    "y_acc_sta = y_gyro\n",
    "X_acc_sta.head()"
   ]
  },
  {
   "cell_type": "code",
   "execution_count": 67,
   "metadata": {},
   "outputs": [],
   "source": [
    "X_train, X_test, y_train, y_test = train_test_split(X_acc_sta, y_acc_sta, test_size=0.2, random_state=42)"
   ]
  },
  {
   "cell_type": "code",
   "execution_count": 68,
   "metadata": {},
   "outputs": [
    {
     "data": {
      "text/plain": [
       "0.3923129021334236"
      ]
     },
     "execution_count": 68,
     "metadata": {},
     "output_type": "execute_result"
    }
   ],
   "source": [
    "y_pred = pickled_clf.predict(X_test)\n",
    "pickled_clf.score(X_test, y_test)"
   ]
  },
  {
   "cell_type": "code",
   "execution_count": 69,
   "metadata": {},
   "outputs": [
    {
     "data": {
      "text/html": [
       "<div>\n",
       "<style scoped>\n",
       "    .dataframe tbody tr th:only-of-type {\n",
       "        vertical-align: middle;\n",
       "    }\n",
       "\n",
       "    .dataframe tbody tr th {\n",
       "        vertical-align: top;\n",
       "    }\n",
       "\n",
       "    .dataframe thead th {\n",
       "        text-align: right;\n",
       "    }\n",
       "</style>\n",
       "<table border=\"1\" class=\"dataframe\">\n",
       "  <thead>\n",
       "    <tr style=\"text-align: right;\">\n",
       "      <th></th>\n",
       "      <th>actual_0</th>\n",
       "      <th>actual_1</th>\n",
       "      <th>actual_2</th>\n",
       "      <th>actual_3</th>\n",
       "      <th>actual_4</th>\n",
       "    </tr>\n",
       "  </thead>\n",
       "  <tbody>\n",
       "    <tr>\n",
       "      <th>predicted_0</th>\n",
       "      <td>1138</td>\n",
       "      <td>4</td>\n",
       "      <td>0</td>\n",
       "      <td>0</td>\n",
       "      <td>0</td>\n",
       "    </tr>\n",
       "    <tr>\n",
       "      <th>predicted_1</th>\n",
       "      <td>0</td>\n",
       "      <td>0</td>\n",
       "      <td>0</td>\n",
       "      <td>0</td>\n",
       "      <td>0</td>\n",
       "    </tr>\n",
       "    <tr>\n",
       "      <th>predicted_2</th>\n",
       "      <td>0</td>\n",
       "      <td>0</td>\n",
       "      <td>0</td>\n",
       "      <td>0</td>\n",
       "      <td>0</td>\n",
       "    </tr>\n",
       "    <tr>\n",
       "      <th>predicted_3</th>\n",
       "      <td>0</td>\n",
       "      <td>0</td>\n",
       "      <td>0</td>\n",
       "      <td>0</td>\n",
       "      <td>0</td>\n",
       "    </tr>\n",
       "    <tr>\n",
       "      <th>predicted_4</th>\n",
       "      <td>1</td>\n",
       "      <td>1195</td>\n",
       "      <td>1237</td>\n",
       "      <td>1152</td>\n",
       "      <td>1179</td>\n",
       "    </tr>\n",
       "  </tbody>\n",
       "</table>\n",
       "</div>"
      ],
      "text/plain": [
       "             actual_0  actual_1  actual_2  actual_3  actual_4\n",
       "predicted_0      1138         4         0         0         0\n",
       "predicted_1         0         0         0         0         0\n",
       "predicted_2         0         0         0         0         0\n",
       "predicted_3         0         0         0         0         0\n",
       "predicted_4         1      1195      1237      1152      1179"
      ]
     },
     "execution_count": 69,
     "metadata": {},
     "output_type": "execute_result"
    }
   ],
   "source": [
    "get_confusion_matrix(y_pred, y_test)"
   ]
  },
  {
   "cell_type": "code",
   "execution_count": 70,
   "metadata": {},
   "outputs": [
    {
     "data": {
      "text/plain": [
       "0.3919742634608872"
      ]
     },
     "execution_count": 70,
     "metadata": {},
     "output_type": "execute_result"
    }
   ],
   "source": [
    "y_pred = pickled_clf2.predict(X_test)\n",
    "pickled_clf2.score(X_test, y_test)"
   ]
  },
  {
   "cell_type": "code",
   "execution_count": 71,
   "metadata": {},
   "outputs": [
    {
     "data": {
      "text/html": [
       "<div>\n",
       "<style scoped>\n",
       "    .dataframe tbody tr th:only-of-type {\n",
       "        vertical-align: middle;\n",
       "    }\n",
       "\n",
       "    .dataframe tbody tr th {\n",
       "        vertical-align: top;\n",
       "    }\n",
       "\n",
       "    .dataframe thead th {\n",
       "        text-align: right;\n",
       "    }\n",
       "</style>\n",
       "<table border=\"1\" class=\"dataframe\">\n",
       "  <thead>\n",
       "    <tr style=\"text-align: right;\">\n",
       "      <th></th>\n",
       "      <th>actual_0</th>\n",
       "      <th>actual_1</th>\n",
       "      <th>actual_2</th>\n",
       "      <th>actual_3</th>\n",
       "      <th>actual_4</th>\n",
       "    </tr>\n",
       "  </thead>\n",
       "  <tbody>\n",
       "    <tr>\n",
       "      <th>predicted_0</th>\n",
       "      <td>1136</td>\n",
       "      <td>1</td>\n",
       "      <td>1</td>\n",
       "      <td>0</td>\n",
       "      <td>0</td>\n",
       "    </tr>\n",
       "    <tr>\n",
       "      <th>predicted_1</th>\n",
       "      <td>0</td>\n",
       "      <td>0</td>\n",
       "      <td>0</td>\n",
       "      <td>0</td>\n",
       "      <td>0</td>\n",
       "    </tr>\n",
       "    <tr>\n",
       "      <th>predicted_2</th>\n",
       "      <td>0</td>\n",
       "      <td>0</td>\n",
       "      <td>0</td>\n",
       "      <td>0</td>\n",
       "      <td>0</td>\n",
       "    </tr>\n",
       "    <tr>\n",
       "      <th>predicted_3</th>\n",
       "      <td>0</td>\n",
       "      <td>0</td>\n",
       "      <td>0</td>\n",
       "      <td>0</td>\n",
       "      <td>0</td>\n",
       "    </tr>\n",
       "    <tr>\n",
       "      <th>predicted_4</th>\n",
       "      <td>3</td>\n",
       "      <td>1198</td>\n",
       "      <td>1236</td>\n",
       "      <td>1152</td>\n",
       "      <td>1179</td>\n",
       "    </tr>\n",
       "  </tbody>\n",
       "</table>\n",
       "</div>"
      ],
      "text/plain": [
       "             actual_0  actual_1  actual_2  actual_3  actual_4\n",
       "predicted_0      1136         1         1         0         0\n",
       "predicted_1         0         0         0         0         0\n",
       "predicted_2         0         0         0         0         0\n",
       "predicted_3         0         0         0         0         0\n",
       "predicted_4         3      1198      1236      1152      1179"
      ]
     },
     "execution_count": 71,
     "metadata": {},
     "output_type": "execute_result"
    }
   ],
   "source": [
    "get_confusion_matrix(y_pred, y_test)"
   ]
  },
  {
   "cell_type": "code",
   "execution_count": 72,
   "metadata": {},
   "outputs": [
    {
     "data": {
      "text/plain": [
       "0.40399593633592956"
      ]
     },
     "execution_count": 72,
     "metadata": {},
     "output_type": "execute_result"
    }
   ],
   "source": [
    "y_pred = pickled_clf3.predict(X_test)\n",
    "pickled_clf3.score(X_test, y_test)"
   ]
  },
  {
   "cell_type": "code",
   "execution_count": 73,
   "metadata": {},
   "outputs": [
    {
     "data": {
      "text/html": [
       "<div>\n",
       "<style scoped>\n",
       "    .dataframe tbody tr th:only-of-type {\n",
       "        vertical-align: middle;\n",
       "    }\n",
       "\n",
       "    .dataframe tbody tr th {\n",
       "        vertical-align: top;\n",
       "    }\n",
       "\n",
       "    .dataframe thead th {\n",
       "        text-align: right;\n",
       "    }\n",
       "</style>\n",
       "<table border=\"1\" class=\"dataframe\">\n",
       "  <thead>\n",
       "    <tr style=\"text-align: right;\">\n",
       "      <th></th>\n",
       "      <th>actual_0</th>\n",
       "      <th>actual_1</th>\n",
       "      <th>actual_2</th>\n",
       "      <th>actual_3</th>\n",
       "      <th>actual_4</th>\n",
       "    </tr>\n",
       "  </thead>\n",
       "  <tbody>\n",
       "    <tr>\n",
       "      <th>predicted_0</th>\n",
       "      <td>1135</td>\n",
       "      <td>10</td>\n",
       "      <td>0</td>\n",
       "      <td>0</td>\n",
       "      <td>0</td>\n",
       "    </tr>\n",
       "    <tr>\n",
       "      <th>predicted_1</th>\n",
       "      <td>0</td>\n",
       "      <td>30</td>\n",
       "      <td>54</td>\n",
       "      <td>15</td>\n",
       "      <td>38</td>\n",
       "    </tr>\n",
       "    <tr>\n",
       "      <th>predicted_2</th>\n",
       "      <td>4</td>\n",
       "      <td>352</td>\n",
       "      <td>279</td>\n",
       "      <td>98</td>\n",
       "      <td>199</td>\n",
       "    </tr>\n",
       "    <tr>\n",
       "      <th>predicted_3</th>\n",
       "      <td>0</td>\n",
       "      <td>0</td>\n",
       "      <td>0</td>\n",
       "      <td>0</td>\n",
       "      <td>0</td>\n",
       "    </tr>\n",
       "    <tr>\n",
       "      <th>predicted_4</th>\n",
       "      <td>0</td>\n",
       "      <td>807</td>\n",
       "      <td>904</td>\n",
       "      <td>1039</td>\n",
       "      <td>942</td>\n",
       "    </tr>\n",
       "  </tbody>\n",
       "</table>\n",
       "</div>"
      ],
      "text/plain": [
       "             actual_0  actual_1  actual_2  actual_3  actual_4\n",
       "predicted_0      1135        10         0         0         0\n",
       "predicted_1         0        30        54        15        38\n",
       "predicted_2         4       352       279        98       199\n",
       "predicted_3         0         0         0         0         0\n",
       "predicted_4         0       807       904      1039       942"
      ]
     },
     "execution_count": 73,
     "metadata": {},
     "output_type": "execute_result"
    }
   ],
   "source": [
    "get_confusion_matrix(y_pred, y_test)"
   ]
  },
  {
   "cell_type": "code",
   "execution_count": 74,
   "metadata": {},
   "outputs": [],
   "source": [
    "scaler = MinMaxScaler()\n",
    "scaler.fit(X_train)\n",
    "X_train = scaler.transform(X_train)\n",
    "X_test = scaler.transform(X_test)"
   ]
  },
  {
   "cell_type": "code",
   "execution_count": 75,
   "metadata": {},
   "outputs": [
    {
     "data": {
      "text/plain": [
       "0.4194039959363359"
      ]
     },
     "execution_count": 75,
     "metadata": {},
     "output_type": "execute_result"
    }
   ],
   "source": [
    "y_pred = pickled_clf4.predict(X_test)\n",
    "pickled_clf4.score(X_test, y_test)"
   ]
  },
  {
   "cell_type": "code",
   "execution_count": 76,
   "metadata": {},
   "outputs": [
    {
     "data": {
      "text/html": [
       "<div>\n",
       "<style scoped>\n",
       "    .dataframe tbody tr th:only-of-type {\n",
       "        vertical-align: middle;\n",
       "    }\n",
       "\n",
       "    .dataframe tbody tr th {\n",
       "        vertical-align: top;\n",
       "    }\n",
       "\n",
       "    .dataframe thead th {\n",
       "        text-align: right;\n",
       "    }\n",
       "</style>\n",
       "<table border=\"1\" class=\"dataframe\">\n",
       "  <thead>\n",
       "    <tr style=\"text-align: right;\">\n",
       "      <th></th>\n",
       "      <th>actual_0</th>\n",
       "      <th>actual_1</th>\n",
       "      <th>actual_2</th>\n",
       "      <th>actual_3</th>\n",
       "      <th>actual_4</th>\n",
       "    </tr>\n",
       "  </thead>\n",
       "  <tbody>\n",
       "    <tr>\n",
       "      <th>predicted_0</th>\n",
       "      <td>1139</td>\n",
       "      <td>44</td>\n",
       "      <td>22</td>\n",
       "      <td>3</td>\n",
       "      <td>2</td>\n",
       "    </tr>\n",
       "    <tr>\n",
       "      <th>predicted_1</th>\n",
       "      <td>0</td>\n",
       "      <td>121</td>\n",
       "      <td>254</td>\n",
       "      <td>110</td>\n",
       "      <td>62</td>\n",
       "    </tr>\n",
       "    <tr>\n",
       "      <th>predicted_2</th>\n",
       "      <td>0</td>\n",
       "      <td>377</td>\n",
       "      <td>341</td>\n",
       "      <td>158</td>\n",
       "      <td>281</td>\n",
       "    </tr>\n",
       "    <tr>\n",
       "      <th>predicted_3</th>\n",
       "      <td>0</td>\n",
       "      <td>500</td>\n",
       "      <td>575</td>\n",
       "      <td>857</td>\n",
       "      <td>815</td>\n",
       "    </tr>\n",
       "    <tr>\n",
       "      <th>predicted_4</th>\n",
       "      <td>0</td>\n",
       "      <td>157</td>\n",
       "      <td>45</td>\n",
       "      <td>24</td>\n",
       "      <td>19</td>\n",
       "    </tr>\n",
       "  </tbody>\n",
       "</table>\n",
       "</div>"
      ],
      "text/plain": [
       "             actual_0  actual_1  actual_2  actual_3  actual_4\n",
       "predicted_0      1139        44        22         3         2\n",
       "predicted_1         0       121       254       110        62\n",
       "predicted_2         0       377       341       158       281\n",
       "predicted_3         0       500       575       857       815\n",
       "predicted_4         0       157        45        24        19"
      ]
     },
     "execution_count": 76,
     "metadata": {},
     "output_type": "execute_result"
    }
   ],
   "source": [
    "get_confusion_matrix(y_pred, y_test)"
   ]
  },
  {
   "cell_type": "markdown",
   "metadata": {},
   "source": [
    "# All"
   ]
  },
  {
   "cell_type": "code",
   "execution_count": 88,
   "metadata": {},
   "outputs": [],
   "source": [
    "pickled_clf = joblib.load(FOLDER_PATH + 'random_forest_all.pkl')\n",
    "pickled_clf2 = joblib.load(FOLDER_PATH2 + 'et_all.pkl')\n",
    "pickled_clf3 = joblib.load(FOLDER_PATH3 + 'adaBoost_all.pkl')\n",
    "pickled_clf4 = joblib.load(FOLDER_PATH4 + 'svm_all.pkl')"
   ]
  },
  {
   "cell_type": "code",
   "execution_count": 89,
   "metadata": {},
   "outputs": [
    {
     "data": {
      "text/html": [
       "<div>\n",
       "<style scoped>\n",
       "    .dataframe tbody tr th:only-of-type {\n",
       "        vertical-align: middle;\n",
       "    }\n",
       "\n",
       "    .dataframe tbody tr th {\n",
       "        vertical-align: top;\n",
       "    }\n",
       "\n",
       "    .dataframe thead th {\n",
       "        text-align: right;\n",
       "    }\n",
       "</style>\n",
       "<table border=\"1\" class=\"dataframe\">\n",
       "  <thead>\n",
       "    <tr style=\"text-align: right;\">\n",
       "      <th></th>\n",
       "      <th>mu_x_gyro</th>\n",
       "      <th>mu_y_gyro</th>\n",
       "      <th>mu_z_gyro</th>\n",
       "      <th>std_x_gyro</th>\n",
       "      <th>std_y_gyro</th>\n",
       "      <th>std_z_gyro</th>\n",
       "      <th>avg_resultant_acc_gyro</th>\n",
       "      <th>bins_0_gyro</th>\n",
       "      <th>bins_1_gyro</th>\n",
       "      <th>bins_2_gyro</th>\n",
       "      <th>...</th>\n",
       "      <th>bins_23_stabilizer</th>\n",
       "      <th>bins_24_stabilizer</th>\n",
       "      <th>bins_25_stabilizer</th>\n",
       "      <th>bins_26_stabilizer</th>\n",
       "      <th>bins_27_stabilizer</th>\n",
       "      <th>bins_28_stabilizer</th>\n",
       "      <th>bins_29_stabilizer</th>\n",
       "      <th>mean_average_difference_x_stabilizer</th>\n",
       "      <th>mean_average_difference_y_stabilizer</th>\n",
       "      <th>mean_average_difference_z_stabilizer</th>\n",
       "    </tr>\n",
       "  </thead>\n",
       "  <tbody>\n",
       "    <tr>\n",
       "      <th>0</th>\n",
       "      <td>-0.009106</td>\n",
       "      <td>-0.578250</td>\n",
       "      <td>-0.486069</td>\n",
       "      <td>3.636300</td>\n",
       "      <td>3.134631</td>\n",
       "      <td>1.004733</td>\n",
       "      <td>4.464595</td>\n",
       "      <td>4.0</td>\n",
       "      <td>4.0</td>\n",
       "      <td>9.0</td>\n",
       "      <td>...</td>\n",
       "      <td>18.0</td>\n",
       "      <td>24.0</td>\n",
       "      <td>19.0</td>\n",
       "      <td>2.0</td>\n",
       "      <td>3.0</td>\n",
       "      <td>1.0</td>\n",
       "      <td>2.0</td>\n",
       "      <td>0.186676</td>\n",
       "      <td>0.176062</td>\n",
       "      <td>0.058991</td>\n",
       "    </tr>\n",
       "    <tr>\n",
       "      <th>1</th>\n",
       "      <td>-0.004169</td>\n",
       "      <td>-0.596648</td>\n",
       "      <td>-0.490217</td>\n",
       "      <td>3.636975</td>\n",
       "      <td>3.149316</td>\n",
       "      <td>1.014886</td>\n",
       "      <td>4.481096</td>\n",
       "      <td>4.0</td>\n",
       "      <td>4.0</td>\n",
       "      <td>9.0</td>\n",
       "      <td>...</td>\n",
       "      <td>16.0</td>\n",
       "      <td>17.0</td>\n",
       "      <td>28.0</td>\n",
       "      <td>9.0</td>\n",
       "      <td>2.0</td>\n",
       "      <td>2.0</td>\n",
       "      <td>2.0</td>\n",
       "      <td>0.184935</td>\n",
       "      <td>0.174752</td>\n",
       "      <td>0.058535</td>\n",
       "    </tr>\n",
       "    <tr>\n",
       "      <th>2</th>\n",
       "      <td>0.002094</td>\n",
       "      <td>-0.615925</td>\n",
       "      <td>-0.497787</td>\n",
       "      <td>3.635308</td>\n",
       "      <td>3.155434</td>\n",
       "      <td>1.033801</td>\n",
       "      <td>4.494133</td>\n",
       "      <td>4.0</td>\n",
       "      <td>4.0</td>\n",
       "      <td>9.0</td>\n",
       "      <td>...</td>\n",
       "      <td>20.0</td>\n",
       "      <td>17.0</td>\n",
       "      <td>17.0</td>\n",
       "      <td>30.0</td>\n",
       "      <td>2.0</td>\n",
       "      <td>3.0</td>\n",
       "      <td>2.0</td>\n",
       "      <td>0.182609</td>\n",
       "      <td>0.173541</td>\n",
       "      <td>0.058626</td>\n",
       "    </tr>\n",
       "    <tr>\n",
       "      <th>3</th>\n",
       "      <td>0.009925</td>\n",
       "      <td>-0.641325</td>\n",
       "      <td>-0.503862</td>\n",
       "      <td>3.631776</td>\n",
       "      <td>3.149600</td>\n",
       "      <td>1.047752</td>\n",
       "      <td>4.494840</td>\n",
       "      <td>4.0</td>\n",
       "      <td>4.0</td>\n",
       "      <td>9.0</td>\n",
       "      <td>...</td>\n",
       "      <td>6.0</td>\n",
       "      <td>21.0</td>\n",
       "      <td>18.0</td>\n",
       "      <td>22.0</td>\n",
       "      <td>23.0</td>\n",
       "      <td>2.0</td>\n",
       "      <td>3.0</td>\n",
       "      <td>0.178716</td>\n",
       "      <td>0.170991</td>\n",
       "      <td>0.059271</td>\n",
       "    </tr>\n",
       "    <tr>\n",
       "      <th>4</th>\n",
       "      <td>0.027315</td>\n",
       "      <td>-0.684527</td>\n",
       "      <td>-0.517753</td>\n",
       "      <td>3.622390</td>\n",
       "      <td>3.117040</td>\n",
       "      <td>1.080746</td>\n",
       "      <td>4.480896</td>\n",
       "      <td>4.0</td>\n",
       "      <td>4.0</td>\n",
       "      <td>9.0</td>\n",
       "      <td>...</td>\n",
       "      <td>2.0</td>\n",
       "      <td>19.0</td>\n",
       "      <td>16.0</td>\n",
       "      <td>18.0</td>\n",
       "      <td>31.0</td>\n",
       "      <td>6.0</td>\n",
       "      <td>3.0</td>\n",
       "      <td>0.173946</td>\n",
       "      <td>0.169402</td>\n",
       "      <td>0.060504</td>\n",
       "    </tr>\n",
       "  </tbody>\n",
       "</table>\n",
       "<p>5 rows × 120 columns</p>\n",
       "</div>"
      ],
      "text/plain": [
       "   mu_x_gyro  mu_y_gyro  mu_z_gyro  std_x_gyro  std_y_gyro  std_z_gyro  \\\n",
       "0  -0.009106  -0.578250  -0.486069    3.636300    3.134631    1.004733   \n",
       "1  -0.004169  -0.596648  -0.490217    3.636975    3.149316    1.014886   \n",
       "2   0.002094  -0.615925  -0.497787    3.635308    3.155434    1.033801   \n",
       "3   0.009925  -0.641325  -0.503862    3.631776    3.149600    1.047752   \n",
       "4   0.027315  -0.684527  -0.517753    3.622390    3.117040    1.080746   \n",
       "\n",
       "   avg_resultant_acc_gyro  bins_0_gyro  bins_1_gyro  bins_2_gyro  \\\n",
       "0                4.464595          4.0          4.0          9.0   \n",
       "1                4.481096          4.0          4.0          9.0   \n",
       "2                4.494133          4.0          4.0          9.0   \n",
       "3                4.494840          4.0          4.0          9.0   \n",
       "4                4.480896          4.0          4.0          9.0   \n",
       "\n",
       "                   ...                   bins_23_stabilizer  \\\n",
       "0                  ...                                 18.0   \n",
       "1                  ...                                 16.0   \n",
       "2                  ...                                 20.0   \n",
       "3                  ...                                  6.0   \n",
       "4                  ...                                  2.0   \n",
       "\n",
       "   bins_24_stabilizer  bins_25_stabilizer  bins_26_stabilizer  \\\n",
       "0                24.0                19.0                 2.0   \n",
       "1                17.0                28.0                 9.0   \n",
       "2                17.0                17.0                30.0   \n",
       "3                21.0                18.0                22.0   \n",
       "4                19.0                16.0                18.0   \n",
       "\n",
       "   bins_27_stabilizer  bins_28_stabilizer  bins_29_stabilizer  \\\n",
       "0                 3.0                 1.0                 2.0   \n",
       "1                 2.0                 2.0                 2.0   \n",
       "2                 2.0                 3.0                 2.0   \n",
       "3                23.0                 2.0                 3.0   \n",
       "4                31.0                 6.0                 3.0   \n",
       "\n",
       "   mean_average_difference_x_stabilizer  mean_average_difference_y_stabilizer  \\\n",
       "0                              0.186676                              0.176062   \n",
       "1                              0.184935                              0.174752   \n",
       "2                              0.182609                              0.173541   \n",
       "3                              0.178716                              0.170991   \n",
       "4                              0.173946                              0.169402   \n",
       "\n",
       "   mean_average_difference_z_stabilizer  \n",
       "0                              0.058991  \n",
       "1                              0.058535  \n",
       "2                              0.058626  \n",
       "3                              0.059271  \n",
       "4                              0.060504  \n",
       "\n",
       "[5 rows x 120 columns]"
      ]
     },
     "execution_count": 89,
     "metadata": {},
     "output_type": "execute_result"
    }
   ],
   "source": [
    "X_all = pd.concat([X_gyro, X_acc, X_sta], axis=1)\n",
    "y_all = y_gyro\n",
    "X_all.head()"
   ]
  },
  {
   "cell_type": "code",
   "execution_count": 90,
   "metadata": {},
   "outputs": [],
   "source": [
    "X_train, X_test, y_train, y_test = train_test_split(X_all, y_all, test_size=0.2, random_state=42)"
   ]
  },
  {
   "cell_type": "code",
   "execution_count": 91,
   "metadata": {},
   "outputs": [
    {
     "data": {
      "text/plain": [
       "0.39248222146969186"
      ]
     },
     "execution_count": 91,
     "metadata": {},
     "output_type": "execute_result"
    }
   ],
   "source": [
    "y_pred = pickled_clf.predict(X_test)\n",
    "pickled_clf.score(X_test, y_test)"
   ]
  },
  {
   "cell_type": "code",
   "execution_count": 92,
   "metadata": {},
   "outputs": [
    {
     "data": {
      "text/html": [
       "<div>\n",
       "<style scoped>\n",
       "    .dataframe tbody tr th:only-of-type {\n",
       "        vertical-align: middle;\n",
       "    }\n",
       "\n",
       "    .dataframe tbody tr th {\n",
       "        vertical-align: top;\n",
       "    }\n",
       "\n",
       "    .dataframe thead th {\n",
       "        text-align: right;\n",
       "    }\n",
       "</style>\n",
       "<table border=\"1\" class=\"dataframe\">\n",
       "  <thead>\n",
       "    <tr style=\"text-align: right;\">\n",
       "      <th></th>\n",
       "      <th>actual_0</th>\n",
       "      <th>actual_1</th>\n",
       "      <th>actual_2</th>\n",
       "      <th>actual_3</th>\n",
       "      <th>actual_4</th>\n",
       "    </tr>\n",
       "  </thead>\n",
       "  <tbody>\n",
       "    <tr>\n",
       "      <th>predicted_0</th>\n",
       "      <td>1139</td>\n",
       "      <td>0</td>\n",
       "      <td>0</td>\n",
       "      <td>0</td>\n",
       "      <td>0</td>\n",
       "    </tr>\n",
       "    <tr>\n",
       "      <th>predicted_1</th>\n",
       "      <td>0</td>\n",
       "      <td>0</td>\n",
       "      <td>0</td>\n",
       "      <td>0</td>\n",
       "      <td>0</td>\n",
       "    </tr>\n",
       "    <tr>\n",
       "      <th>predicted_2</th>\n",
       "      <td>0</td>\n",
       "      <td>0</td>\n",
       "      <td>0</td>\n",
       "      <td>0</td>\n",
       "      <td>0</td>\n",
       "    </tr>\n",
       "    <tr>\n",
       "      <th>predicted_3</th>\n",
       "      <td>0</td>\n",
       "      <td>0</td>\n",
       "      <td>0</td>\n",
       "      <td>0</td>\n",
       "      <td>0</td>\n",
       "    </tr>\n",
       "    <tr>\n",
       "      <th>predicted_4</th>\n",
       "      <td>0</td>\n",
       "      <td>1199</td>\n",
       "      <td>1237</td>\n",
       "      <td>1152</td>\n",
       "      <td>1179</td>\n",
       "    </tr>\n",
       "  </tbody>\n",
       "</table>\n",
       "</div>"
      ],
      "text/plain": [
       "             actual_0  actual_1  actual_2  actual_3  actual_4\n",
       "predicted_0      1139         0         0         0         0\n",
       "predicted_1         0         0         0         0         0\n",
       "predicted_2         0         0         0         0         0\n",
       "predicted_3         0         0         0         0         0\n",
       "predicted_4         0      1199      1237      1152      1179"
      ]
     },
     "execution_count": 92,
     "metadata": {},
     "output_type": "execute_result"
    }
   ],
   "source": [
    "get_confusion_matrix(y_pred, y_test)"
   ]
  },
  {
   "cell_type": "code",
   "execution_count": 93,
   "metadata": {},
   "outputs": [
    {
     "data": {
      "text/plain": [
       "0.39248222146969186"
      ]
     },
     "execution_count": 93,
     "metadata": {},
     "output_type": "execute_result"
    }
   ],
   "source": [
    "y_pred = pickled_clf2.predict(X_test)\n",
    "pickled_clf2.score(X_test, y_test)"
   ]
  },
  {
   "cell_type": "code",
   "execution_count": 94,
   "metadata": {},
   "outputs": [
    {
     "data": {
      "text/html": [
       "<div>\n",
       "<style scoped>\n",
       "    .dataframe tbody tr th:only-of-type {\n",
       "        vertical-align: middle;\n",
       "    }\n",
       "\n",
       "    .dataframe tbody tr th {\n",
       "        vertical-align: top;\n",
       "    }\n",
       "\n",
       "    .dataframe thead th {\n",
       "        text-align: right;\n",
       "    }\n",
       "</style>\n",
       "<table border=\"1\" class=\"dataframe\">\n",
       "  <thead>\n",
       "    <tr style=\"text-align: right;\">\n",
       "      <th></th>\n",
       "      <th>actual_0</th>\n",
       "      <th>actual_1</th>\n",
       "      <th>actual_2</th>\n",
       "      <th>actual_3</th>\n",
       "      <th>actual_4</th>\n",
       "    </tr>\n",
       "  </thead>\n",
       "  <tbody>\n",
       "    <tr>\n",
       "      <th>predicted_0</th>\n",
       "      <td>1139</td>\n",
       "      <td>0</td>\n",
       "      <td>0</td>\n",
       "      <td>0</td>\n",
       "      <td>0</td>\n",
       "    </tr>\n",
       "    <tr>\n",
       "      <th>predicted_1</th>\n",
       "      <td>0</td>\n",
       "      <td>0</td>\n",
       "      <td>0</td>\n",
       "      <td>0</td>\n",
       "      <td>0</td>\n",
       "    </tr>\n",
       "    <tr>\n",
       "      <th>predicted_2</th>\n",
       "      <td>0</td>\n",
       "      <td>0</td>\n",
       "      <td>0</td>\n",
       "      <td>0</td>\n",
       "      <td>0</td>\n",
       "    </tr>\n",
       "    <tr>\n",
       "      <th>predicted_3</th>\n",
       "      <td>0</td>\n",
       "      <td>0</td>\n",
       "      <td>0</td>\n",
       "      <td>0</td>\n",
       "      <td>0</td>\n",
       "    </tr>\n",
       "    <tr>\n",
       "      <th>predicted_4</th>\n",
       "      <td>0</td>\n",
       "      <td>1199</td>\n",
       "      <td>1237</td>\n",
       "      <td>1152</td>\n",
       "      <td>1179</td>\n",
       "    </tr>\n",
       "  </tbody>\n",
       "</table>\n",
       "</div>"
      ],
      "text/plain": [
       "             actual_0  actual_1  actual_2  actual_3  actual_4\n",
       "predicted_0      1139         0         0         0         0\n",
       "predicted_1         0         0         0         0         0\n",
       "predicted_2         0         0         0         0         0\n",
       "predicted_3         0         0         0         0         0\n",
       "predicted_4         0      1199      1237      1152      1179"
      ]
     },
     "execution_count": 94,
     "metadata": {},
     "output_type": "execute_result"
    }
   ],
   "source": [
    "get_confusion_matrix(y_pred, y_test)"
   ]
  },
  {
   "cell_type": "code",
   "execution_count": 95,
   "metadata": {},
   "outputs": [
    {
     "data": {
      "text/plain": [
       "0.39248222146969186"
      ]
     },
     "execution_count": 95,
     "metadata": {},
     "output_type": "execute_result"
    }
   ],
   "source": [
    "y_pred = pickled_clf3.predict(X_test)\n",
    "pickled_clf3.score(X_test, y_test)"
   ]
  },
  {
   "cell_type": "code",
   "execution_count": 96,
   "metadata": {
    "scrolled": true
   },
   "outputs": [
    {
     "data": {
      "text/html": [
       "<div>\n",
       "<style scoped>\n",
       "    .dataframe tbody tr th:only-of-type {\n",
       "        vertical-align: middle;\n",
       "    }\n",
       "\n",
       "    .dataframe tbody tr th {\n",
       "        vertical-align: top;\n",
       "    }\n",
       "\n",
       "    .dataframe thead th {\n",
       "        text-align: right;\n",
       "    }\n",
       "</style>\n",
       "<table border=\"1\" class=\"dataframe\">\n",
       "  <thead>\n",
       "    <tr style=\"text-align: right;\">\n",
       "      <th></th>\n",
       "      <th>actual_0</th>\n",
       "      <th>actual_1</th>\n",
       "      <th>actual_2</th>\n",
       "      <th>actual_3</th>\n",
       "      <th>actual_4</th>\n",
       "    </tr>\n",
       "  </thead>\n",
       "  <tbody>\n",
       "    <tr>\n",
       "      <th>predicted_0</th>\n",
       "      <td>1139</td>\n",
       "      <td>14</td>\n",
       "      <td>0</td>\n",
       "      <td>0</td>\n",
       "      <td>0</td>\n",
       "    </tr>\n",
       "    <tr>\n",
       "      <th>predicted_1</th>\n",
       "      <td>0</td>\n",
       "      <td>0</td>\n",
       "      <td>0</td>\n",
       "      <td>0</td>\n",
       "      <td>0</td>\n",
       "    </tr>\n",
       "    <tr>\n",
       "      <th>predicted_2</th>\n",
       "      <td>0</td>\n",
       "      <td>0</td>\n",
       "      <td>0</td>\n",
       "      <td>0</td>\n",
       "      <td>0</td>\n",
       "    </tr>\n",
       "    <tr>\n",
       "      <th>predicted_3</th>\n",
       "      <td>0</td>\n",
       "      <td>0</td>\n",
       "      <td>0</td>\n",
       "      <td>0</td>\n",
       "      <td>0</td>\n",
       "    </tr>\n",
       "    <tr>\n",
       "      <th>predicted_4</th>\n",
       "      <td>0</td>\n",
       "      <td>1185</td>\n",
       "      <td>1237</td>\n",
       "      <td>1152</td>\n",
       "      <td>1179</td>\n",
       "    </tr>\n",
       "  </tbody>\n",
       "</table>\n",
       "</div>"
      ],
      "text/plain": [
       "             actual_0  actual_1  actual_2  actual_3  actual_4\n",
       "predicted_0      1139        14         0         0         0\n",
       "predicted_1         0         0         0         0         0\n",
       "predicted_2         0         0         0         0         0\n",
       "predicted_3         0         0         0         0         0\n",
       "predicted_4         0      1185      1237      1152      1179"
      ]
     },
     "execution_count": 96,
     "metadata": {},
     "output_type": "execute_result"
    }
   ],
   "source": [
    "get_confusion_matrix(y_pred, y_test)"
   ]
  },
  {
   "cell_type": "code",
   "execution_count": 97,
   "metadata": {},
   "outputs": [],
   "source": [
    "scaler = MinMaxScaler()\n",
    "scaler.fit(X_train)\n",
    "X_train = scaler.transform(X_train)\n",
    "X_test = scaler.transform(X_test)"
   ]
  },
  {
   "cell_type": "code",
   "execution_count": 98,
   "metadata": {},
   "outputs": [
    {
     "data": {
      "text/plain": [
       "0.4519133084998307"
      ]
     },
     "execution_count": 98,
     "metadata": {},
     "output_type": "execute_result"
    }
   ],
   "source": [
    "y_pred = pickled_clf4.predict(X_test)\n",
    "pickled_clf4.score(X_test, y_test)"
   ]
  },
  {
   "cell_type": "code",
   "execution_count": null,
   "metadata": {},
   "outputs": [],
   "source": [
    "get_confusion_matrix(y_pred, y_test)"
   ]
  }
 ],
 "metadata": {
  "kernelspec": {
   "display_name": "Python 3",
   "language": "python",
   "name": "python3"
  },
  "language_info": {
   "codemirror_mode": {
    "name": "ipython",
    "version": 3
   },
   "file_extension": ".py",
   "mimetype": "text/x-python",
   "name": "python",
   "nbconvert_exporter": "python",
   "pygments_lexer": "ipython3",
   "version": "3.6.5"
  }
 },
 "nbformat": 4,
 "nbformat_minor": 2
}
